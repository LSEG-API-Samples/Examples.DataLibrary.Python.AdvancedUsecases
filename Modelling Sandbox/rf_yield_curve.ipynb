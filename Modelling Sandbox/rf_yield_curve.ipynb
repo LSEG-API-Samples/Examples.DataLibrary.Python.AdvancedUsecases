{
 "cells": [
  {
   "cell_type": "code",
   "execution_count": null,
   "metadata": {},
   "outputs": [],
   "source": [
    "import refinitiv.data as rd\n",
    "import pandas as pd\n",
    "import numpy as np\n",
    "from datetime import datetime, timedelta\n",
    "import cufflinks as cf\n",
    "# enable multiple outputs from each Jupyter block\n",
    "cf.go_offline()\n",
    "\n",
    "rd.open_session()\n"
   ]
  },
  {
   "cell_type": "code",
   "execution_count": 5,
   "metadata": {},
   "outputs": [
    {
     "data": {
      "text/html": [
       "        <script type=\"text/javascript\">\n",
       "        window.PlotlyConfig = {MathJaxConfig: 'local'};\n",
       "        if (window.MathJax && window.MathJax.Hub && window.MathJax.Hub.Config) {window.MathJax.Hub.Config({SVG: {font: \"STIX-Web\"}});}\n",
       "        if (typeof require !== 'undefined') {\n",
       "        require.undef(\"plotly\");\n",
       "        requirejs.config({\n",
       "            paths: {\n",
       "                'plotly': ['https://cdn.plot.ly/plotly-2.17.1.min']\n",
       "            }\n",
       "        });\n",
       "        require(['plotly'], function(Plotly) {\n",
       "            window._Plotly = Plotly;\n",
       "        });\n",
       "        }\n",
       "        </script>\n",
       "        "
      ]
     },
     "metadata": {},
     "output_type": "display_data"
    }
   ],
   "source": [
    "def get_data(ric_chain, show_chart=True):\n",
    "    # retrieving target Chain RIC and assigning to df yc\n",
    "    yc = rd.get_data(rd.discovery.Chain(ric_chain), ['DSPLY_NAME'])\n",
    "\n",
    "    # creating array of RICs from the chain RIC in df yc (droping first 3 rows since they are invalid RICs)\n",
    "    riclist = yc.drop(yc.index[0:5])['Instrument'].tolist()\n",
    "\n",
    "    # retrieves time series for riclist for last 9 months\n",
    "    end_date = datetime.now()\n",
    "    start_date = end_date - timedelta(days=270)\n",
    "    ust_yc2 = rd.get_history(riclist, fields=\"B_YLD_1\", start=start_date,\n",
    "                             end=end_date, interval=\"daily\")\n",
    "\n",
    "    # creating location index in df ust_yc2 for a specific point in time.\n",
    "    total = int(len(ust_yc2))\n",
    "    total30 = int(len(ust_yc2)/12)\n",
    "    total90 = int(len(ust_yc2)/4)\n",
    "    total180 = int(len(ust_yc2)/2)\n",
    "    total270 = int(len(ust_yc2)/12)*9\n",
    "\n",
    "    # calculating the historical starting point for each time period within dataframe ust_yc2 (starting from the tail)\n",
    "    # output to be used\n",
    "    pctchg1m = ((ust_yc2.iloc[-1] / ust_yc2.iloc[total - total30]) - 1)\n",
    "    pctchg3m = ((ust_yc2.iloc[-1] / ust_yc2.iloc[total - total90]) - 1)\n",
    "    pctchg6m = ((ust_yc2.iloc[-1] / ust_yc2.iloc[total - total180]) - 1)\n",
    "    pctchg9m = ((ust_yc2.iloc[-1] / ust_yc2.iloc[total - total270]) - 1)\n",
    "    pctchg1y = ((ust_yc2.iloc[-1] / ust_yc2.iloc[0]) - 1)\n",
    "\n",
    "    # creating new dataframe from each individual pctchg series\n",
    "    frame = {'1M': pctchg1m, '3M': pctchg3m, '6M': pctchg6m, '9M': pctchg9m}\n",
    "    pct_chg_matrix = pd.DataFrame(frame)\n",
    "\n",
    "    if show_chart:\n",
    "        # chart curve and plot % change over terms\n",
    "        ycs = pct_chg_matrix.iplot(kind='bar', yTitle='% Chg', title='Yield Curve Shifts', theme='solar', colors=[\n",
    "                                   '#6978F7', '#A325E9', '#96E05D', '#4A7FB9', '#E75A2D', '#FBE55A', '#8C8C8D', '#5A54F6'])\n",
    "    return pct_chg_matrix\n"
   ]
  },
  {
   "cell_type": "code",
   "execution_count": null,
   "metadata": {},
   "outputs": [],
   "source": [
    "rd.close_session()"
   ]
  }
 ],
 "metadata": {
  "kernelspec": {
   "display_name": "Python 3 (ipykernel)",
   "language": "python",
   "name": "python3"
  },
  "language_info": {
   "codemirror_mode": {
    "name": "ipython",
    "version": 3
   },
   "file_extension": ".py",
   "mimetype": "text/x-python",
   "name": "python",
   "nbconvert_exporter": "python",
   "pygments_lexer": "ipython3",
   "version": "3.9.13"
  },
  "widgets": {
   "application/vnd.jupyter.widget-state+json": {
    "state": {},
    "version_major": 2,
    "version_minor": 0
   }
  }
 },
 "nbformat": 4,
 "nbformat_minor": 4
}
