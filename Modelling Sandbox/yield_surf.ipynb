{
 "cells": [
  {
   "cell_type": "code",
   "execution_count": null,
   "metadata": {},
   "outputs": [],
   "source": [
    "import refinitiv.data as rd\n",
    "from datetime import datetime\n",
    "from dateutil.relativedelta import relativedelta\n",
    "import plotly.graph_objects as go\n",
    "import pandas as pd\n",
    "\n",
    "rd.open_session()"
   ]
  },
  {
   "cell_type": "code",
   "execution_count": 49,
   "metadata": {},
   "outputs": [],
   "source": [
    "\n",
    "def get_maturity(t, today):\n",
    "    tenor = t - today\n",
    "    return tenor.days/365\n",
    "\n",
    "\n",
    "def date_6M(today):\n",
    "    date = today - relativedelta(months=6)\n",
    "    return datetime.strftime(date, '%Y-%m-%d')\n",
    "\n",
    "\n",
    "def get_data(chain='0#USBMK='):\n",
    "\n",
    "    today = datetime.now()\n",
    "    df_rics = rd.get_data(rd.discovery.Chain(chain), 'MATUR_DATE')\n",
    "    rics = df_rics['Instrument'].tolist()\n",
    "    Maturity = list(map(lambda t: get_maturity(t, today), df_rics.MATUR_DATE))\n",
    "    df_history = rd.get_history(\n",
    "        rics, fields='B_YLD_1', start=date_6M(today), count=10000)\n",
    "    trace = go.Surface(y=df_history.index, x=Maturity,\n",
    "                       z=df_history.values, name=chain, showscale=False)\n",
    "    yield_surface = go.Figure()\n",
    "    yield_surface.add_trace(trace)\n",
    "    yield_surface.update_layout(template='plotly_dark', scene=dict(\n",
    "        xaxis=dict(title_text='Tenor', autorange='reversed'),\n",
    "        yaxis=dict(title_text='Date'),\n",
    "        zaxis=dict(title_text='Yield, %')\n",
    "    ),\n",
    "        margin=dict(l=5, r=5, b=10, t=10),\n",
    "    )\n",
    "    return yield_surface"
   ]
  },
  {
   "cell_type": "code",
   "execution_count": null,
   "metadata": {},
   "outputs": [],
   "source": [
    "rd.close_session()\n"
   ]
  }
 ],
 "metadata": {
  "kernelspec": {
   "display_name": "Python 3 (ipykernel)",
   "language": "python",
   "name": "python3"
  },
  "language_info": {
   "codemirror_mode": {
    "name": "ipython",
    "version": 3
   },
   "file_extension": ".py",
   "mimetype": "text/x-python",
   "name": "python",
   "nbconvert_exporter": "python",
   "pygments_lexer": "ipython3",
   "version": "3.9.13"
  },
  "widgets": {
   "application/vnd.jupyter.widget-state+json": {
    "state": {},
    "version_major": 2,
    "version_minor": 0
   }
  }
 },
 "nbformat": 4,
 "nbformat_minor": 4
}
