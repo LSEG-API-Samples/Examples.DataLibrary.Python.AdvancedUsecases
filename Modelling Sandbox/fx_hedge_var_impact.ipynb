{
 "cells": [
  {
   "cell_type": "code",
   "execution_count": 4,
   "metadata": {},
   "outputs": [
    {
     "data": {
      "text/plain": [
       "<refinitiv.data.session.Definition object at 0x16a668370 {name='workspace'}>"
      ]
     },
     "execution_count": 4,
     "metadata": {},
     "output_type": "execute_result"
    }
   ],
   "source": [
    "import plotly.graph_objects as go\n",
    "from plotly import subplots\n",
    "import pandas as pd\n",
    "import numpy as np\n",
    "from datetime import datetime\n",
    "import refinitiv.data as rd\n",
    "rd.open_session()\n"
   ]
  },
  {
   "cell_type": "code",
   "execution_count": 5,
   "metadata": {},
   "outputs": [],
   "source": [
    "direct_qm = ['AUD = ', 'BTC = ', 'BWP = ', 'EUR = ', 'FJD = ', 'FKP = ', 'GBP = ', 'GIP = ', 'IEP = ', 'MTL = ',\n",
    "             'NZD = ', 'PGK = ', 'SBD = ', 'SHP = ', 'TOP = ', 'USD = ', 'WST = ', 'XAG = ', 'XAU = ', 'XPD = ', 'XPT = ']"
   ]
  },
  {
   "cell_type": "code",
   "execution_count": 6,
   "metadata": {},
   "outputs": [],
   "source": [
    "conf_int = 0.95\n",
    "z_score_const = 1.64485\n",
    "\n",
    "\n",
    "def convert_to_usd(ric, rate, amt):\n",
    "    if ric in direct_qm:\n",
    "        return amt * rate\n",
    "    else:\n",
    "        if rate != 0:\n",
    "            return amt / rate\n",
    "        else:\n",
    "            return 0\n",
    "\n",
    "\n",
    "def get_data(portfolio):\n",
    "    instruments = list(portfolio.keys())\n",
    "    df = rd.get_history(instruments, 'BID', interval='daily', count=252)\n",
    "    df = df.fillna(method='ffill')\n",
    "    positions = list(map(lambda p: portfolio[p][0], instruments))\n",
    "    hedge_ratios = list(map(lambda p: portfolio[p][1], instruments))\n",
    "    spot_fx = df.tail(1).values.tolist()[0]\n",
    "    flow_usd = list(map(lambda r, f, a: convert_to_usd(\n",
    "        r, f, a), instruments, spot_fx, positions))\n",
    "    risk_amt_before_hedge = round(sum(flow_usd), 2)\n",
    "    risk_pct_before_hedge = list(np.array(flow_usd) / risk_amt_before_hedge)\n",
    "    hedge_usd = list(np.multiply(hedge_ratios, flow_usd))\n",
    "    remaining_flow_usd = list(np.subtract(\n",
    "        np.array(flow_usd), np.array(hedge_usd)))\n",
    "    risk_amt_after_hedge = round(sum(remaining_flow_usd), 2)\n",
    "    risk_pct_after_hedge = list(\n",
    "        np.array(remaining_flow_usd) / risk_amt_after_hedge)\n",
    "\n",
    "    # calculate log returns\n",
    "    df_log = pd.DataFrame()\n",
    "    df_log = np.log(df) - np.log(df.shift(1))\n",
    "    df_log = df_log.dropna(axis=0)\n",
    "    df_stats = df_log.describe()\n",
    "    daily_std = list(map(lambda c: df_stats[c]['std'], list(df_stats.columns)))\n",
    "    daily_avg = list(\n",
    "        map(lambda c: df_stats[c]['mean'], list(df_stats.columns)))\n",
    "    annualized_std = list(map(lambda x: x * (252 ** 0.5), daily_std))\n",
    "    # calculate excess returns\n",
    "    df_x_ret = df_log\n",
    "    n = 0\n",
    "    for c in list(df_x_ret.columns):\n",
    "        df_x_ret[c] -= daily_avg[n]\n",
    "        n += 1\n",
    "\n",
    "    ann_std_hedged = list(np.multiply(\n",
    "        np.array(risk_pct_after_hedge), np.array(annualized_std)))\n",
    "    ann_std_unhedged = list(np.multiply(\n",
    "        np.array(risk_pct_before_hedge), np.array(annualized_std)))\n",
    "\n",
    "    # create correlation matrix on excess returns & vols\n",
    "    corr_mtx = df_x_ret.corr()\n",
    "    _vhedge = pd.DataFrame(corr_mtx.dot(ann_std_hedged)).transpose()\n",
    "    _vunhedge = pd.DataFrame(corr_mtx.dot(ann_std_unhedged)).transpose()\n",
    "    vol_after_hedge = np.dot(np.array(_vhedge), np.array(\n",
    "        pd.DataFrame(ann_std_hedged)))[0][0] ** 0.5\n",
    "    vol_before_hedge = np.dot(np.array(_vunhedge), np.array(\n",
    "        pd.DataFrame(ann_std_unhedged)))[0][0] ** 0.5\n",
    "    var_before_hedge = (vol_before_hedge *\n",
    "                        np.abs(risk_amt_before_hedge) * z_score_const).round(2)\n",
    "    var_after_hedge = (vol_after_hedge *\n",
    "                       np.abs(risk_amt_after_hedge) * z_score_const).round(2)\n",
    "    df_pct_risk = pd.DataFrame()\n",
    "    df_pct_risk['% Risk after hedge'] = risk_pct_after_hedge\n",
    "    df_pct_risk['% Risk before hedge'] = risk_pct_before_hedge\n",
    "    df_pct_risk.index = instruments\n",
    "    value_at_risk = pd.DataFrame()\n",
    "    value_at_risk['Risk amount, USD'] = [\n",
    "        risk_amt_before_hedge, risk_amt_after_hedge]\n",
    "    value_at_risk['Volatility'] = [vol_before_hedge, vol_after_hedge]\n",
    "    value_at_risk['VaR, USD'] = [var_before_hedge, var_after_hedge]\n",
    "    value_at_risk.index = ['Before hedge', 'After hedge']\n",
    "    trace1 = go.Heatmap(x=df_pct_risk.index, y=df_pct_risk.columns,\n",
    "                        z=df_pct_risk.T.values * 100, colorscale='YlGn')\n",
    "    trace2 = go.Bar(x=value_at_risk.index,\n",
    "                    y=value_at_risk['VaR, USD'].values, marker=dict(color='#6978F7'))\n",
    "    fig = subplots.make_subplots(shared_yaxes=False, shared_xaxes=False, rows=1, cols=2,\n",
    "                                 subplot_titles=('VaR chg, USD', 'Risk distribution chg, %'), print_grid=False)\n",
    "    fig.append_trace(trace1, row=1, col=2)\n",
    "    fig.append_trace(trace2, row=1, col=1)\n",
    "    fig.layout.title = 'FX hedge impact analysis'\n",
    "    fig.layout.xaxis = dict(domain=[0, 0.25])\n",
    "    fig.layout.xaxis2 = dict(domain=[0.45, 1])\n",
    "    fig.update_layout(template='plotly_dark')\n",
    "\n",
    "    return fig"
   ]
  },
  {
   "cell_type": "code",
   "execution_count": null,
   "metadata": {},
   "outputs": [],
   "source": [
    "rd.close_session()\n"
   ]
  }
 ],
 "metadata": {
  "kernelspec": {
   "display_name": "rd_migration",
   "language": "python",
   "name": "python3"
  },
  "language_info": {
   "codemirror_mode": {
    "name": "ipython",
    "version": 3
   },
   "file_extension": ".py",
   "mimetype": "text/x-python",
   "name": "python",
   "nbconvert_exporter": "python",
   "pygments_lexer": "ipython3",
   "version": "3.9.13"
  },
  "vscode": {
   "interpreter": {
    "hash": "c85fff1d8f64dd81ed62580beef2fa8681baae0ff4c4324d6e96d73878a4932d"
   }
  },
  "widgets": {
   "application/vnd.jupyter.widget-state+json": {
    "state": {},
    "version_major": 2,
    "version_minor": 0
   }
  }
 },
 "nbformat": 4,
 "nbformat_minor": 4
}
