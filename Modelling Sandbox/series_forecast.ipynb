{
 "cells": [
  {
   "cell_type": "code",
   "execution_count": 9,
   "metadata": {},
   "outputs": [
    {
     "data": {
      "text/html": [
       "        <script type=\"text/javascript\">\n",
       "        window.PlotlyConfig = {MathJaxConfig: 'local'};\n",
       "        if (window.MathJax && window.MathJax.Hub && window.MathJax.Hub.Config) {window.MathJax.Hub.Config({SVG: {font: \"STIX-Web\"}});}\n",
       "        if (typeof require !== 'undefined') {\n",
       "        require.undef(\"plotly\");\n",
       "        requirejs.config({\n",
       "            paths: {\n",
       "                'plotly': ['https://cdn.plot.ly/plotly-2.17.1.min']\n",
       "            }\n",
       "        });\n",
       "        require(['plotly'], function(Plotly) {\n",
       "            window._Plotly = Plotly;\n",
       "        });\n",
       "        }\n",
       "        </script>\n",
       "        "
      ]
     },
     "metadata": {},
     "output_type": "display_data"
    }
   ],
   "source": [
    "import refinitiv.data as rd\n",
    "import pandas as pd\n",
    "import numpy as np\n",
    "from datetime import datetime, timedelta\n",
    "import cufflinks as cf\n",
    "from scipy.stats import norm\n",
    "cf.go_offline()\n",
    "\n",
    "rd.open_session()"
   ]
  },
  {
   "cell_type": "code",
   "execution_count": null,
   "metadata": {},
   "outputs": [],
   "source": [
    "def get_data(instrument, confidence_interval=0.8):\n",
    "    _sd = datetime.now()\n",
    "    _sd -= timedelta(days=730)\n",
    "    df = rd.get_history(instrument, 'TRDPRC_1', start=_sd,\n",
    "                        interval='daily', count=10000)\n",
    "    # calculate log returns\n",
    "    df_log = pd.DataFrame()\n",
    "    df_log['TRDPRC_1'] = np.log(df['TRDPRC_1']) - \\\n",
    "        np.log(df['TRDPRC_1'].shift(1))\n",
    "    df_log = df_log.dropna(axis=0)\n",
    "    df_stats = df_log.describe()\n",
    "    std = df_stats['TRDPRC_1']['std']\n",
    "    mu = df_stats['TRDPRC_1']['mean']\n",
    "    date_array = []\n",
    "    vol_array = []\n",
    "    lim_min = []\n",
    "    lim_max = []\n",
    "    lim_avg = []\n",
    "    for t in range(90):\n",
    "        _dt = datetime.timestamp(df.index[-1])\n",
    "        _dt = datetime.fromtimestamp(_dt)\n",
    "        date_array.append(_dt + timedelta(days=t))\n",
    "        lim_max.append(df['TRDPRC_1'][-1] * np.exp(mu*t +\n",
    "                       np.sqrt(t)*std*norm.ppf(confidence_interval)))\n",
    "        lim_min.append(df['TRDPRC_1'][-1]/np.exp(-(mu*t -\n",
    "                       np.sqrt(t)*std*norm.ppf(confidence_interval))))\n",
    "        lim_avg.append(df['TRDPRC_1'][-1]*np.exp(mu*t))\n",
    "\n",
    "    forecast = pd.DataFrame()\n",
    "    forecast['UPPER LIM'] = lim_max\n",
    "    forecast['LOWER LIM'] = lim_min\n",
    "    forecast['TRDPRC_1'] = lim_avg\n",
    "    forecast.index = date_array\n",
    "    _df = df\n",
    "    _df['UPPER LIM'] = np.nan\n",
    "    _df['LOWER LIM'] = np.nan\n",
    "    result = pd.concat([_df, forecast], sort=True)\n",
    "    result.iplot(theme='solar', colors=[\n",
    "                 '#6978F7', '#A325E9', '#96E05D', '#4A7FB9', '#E75A2D', '#FBE55A', '#8C8C8D', '#5A54F6'])\n",
    "    return"
   ]
  },
  {
   "cell_type": "code",
   "execution_count": null,
   "metadata": {},
   "outputs": [],
   "source": [
    "rd.close_session()"
   ]
  },
  {
   "cell_type": "code",
   "execution_count": null,
   "metadata": {},
   "outputs": [],
   "source": []
  }
 ],
 "metadata": {
  "kernelspec": {
   "display_name": "Python 3 (ipykernel)",
   "language": "python",
   "name": "python3"
  },
  "language_info": {
   "codemirror_mode": {
    "name": "ipython",
    "version": 3
   },
   "file_extension": ".py",
   "mimetype": "text/x-python",
   "name": "python",
   "nbconvert_exporter": "python",
   "pygments_lexer": "ipython3",
   "version": "3.9.13"
  },
  "widgets": {
   "application/vnd.jupyter.widget-state+json": {
    "state": {},
    "version_major": 2,
    "version_minor": 0
   }
  }
 },
 "nbformat": 4,
 "nbformat_minor": 4
}
