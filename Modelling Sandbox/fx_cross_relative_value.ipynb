{
 "cells": [
  {
   "cell_type": "code",
   "execution_count": 7,
   "metadata": {},
   "outputs": [
    {
     "data": {
      "text/plain": [
       "<refinitiv.data.session.Definition object at 0x14fcfc340 {name='workspace'}>"
      ]
     },
     "execution_count": 7,
     "metadata": {},
     "output_type": "execute_result"
    }
   ],
   "source": [
    "import refinitiv.data as rd\n",
    "import pandas as pd\n",
    "import numpy as np\n",
    "import cufflinks as cf\n",
    "import re\n",
    "from datetime import datetime, timedelta\n",
    "import plotly.graph_objects as go\n",
    "\n",
    "rd.open_session()\n"
   ]
  },
  {
   "cell_type": "code",
   "execution_count": 15,
   "metadata": {},
   "outputs": [],
   "source": [
    "def refinitiv_layout(figure):\n",
    "    figure.update_layout(margin=dict(t=5, b=5, l=10, r=10),\n",
    "                         plot_bgcolor='#1A1A1D',\n",
    "                         paper_bgcolor='#1A1A1D',\n",
    "                         yaxis=dict(gridcolor='black', gridwidth=1, zerolinecolor='black', zerolinewidth=1,\n",
    "                                      side='right', color='#D6D6D5', linecolor='#D6D6D5', ticks='outside'),\n",
    "                         xaxis=dict(gridcolor='black', gridwidth=1, zerolinecolor='black', zerolinewidth=1,\n",
    "                                    color='#D6D6D5', linecolor='#D6D6D5', ticks='outside'),\n",
    "                         colorway=['#6978F7', '#A325E9', '#96E05D', '#4A7FB9',\n",
    "                                   '#E75A2D', '#FBE55A', '#8C8C8D', '#5A54F6'],\n",
    "                         legend=dict(font=dict(color='#D6D6D5'), orientation='v',\n",
    "                                     yanchor='top', xanchor='center', y=1.1, x=0.1),\n",
    "                         title=dict(xanchor='center', yanchor='top',\n",
    "                                    x=0.5, font=dict(color='#D6D6D5'))\n",
    "                         )\n",
    "    return\n",
    "\n",
    "\n",
    "def get_data(fx_list, _base_currency):\n",
    "    usd_fx_list = list(map(lambda x: x + '=', fx_list))\n",
    "    df_snap = rd.get_data(usd_fx_list, 'BID')\n",
    "    df_snap = df_snap.sort_values(ascending=False, by='BID')\n",
    "    fx_list = list(map(lambda x: re.sub(r\"=\", \"\", x),\n",
    "                   df_snap.Instrument.tolist()))\n",
    "\n",
    "    xfx_list = []\n",
    "    base_currency = _base_currency + '='\n",
    "    for f in fx_list:\n",
    "        for _f in fx_list:\n",
    "            if f == _f:\n",
    "                break\n",
    "            else:\n",
    "                xfx_list.append(f + _f + '=R')\n",
    "\n",
    "    xfx_list.append(base_currency)\n",
    "    start = datetime.today() - timedelta(days=91)\n",
    "    df = rd.get_history(xfx_list, 'BID', start=start,\n",
    "                        interval='daily', count=10000)\n",
    "    df_base = df[base_currency]\n",
    "\n",
    "    df_log = pd.DataFrame()\n",
    "    for c in list(df.columns):\n",
    "        df_log[c] = np.log(df[c]) - np.log(df[c].shift(1))\n",
    "    df_log = df_log.dropna(axis=0)\n",
    "    df_mean = df.mean()\n",
    "    df_vol_absolute = df.std()\n",
    "    df_z_scores = (df.tail(1) - df_mean) / df_vol_absolute\n",
    "    df_corr = df_log.corr()\n",
    "    corr_values = df_corr[base_currency][:-1].values.tolist()\n",
    "    z_score_values = df_z_scores.drop(\n",
    "        columns=[base_currency]).values[0].tolist()\n",
    "    df_out = pd.DataFrame(\n",
    "        columns=['91D Z-Scores', 'Correlation vs ' + _base_currency])\n",
    "    df_out['91D Z-Scores'] = z_score_values\n",
    "    df_out['Correlation vs ' + _base_currency] = corr_values\n",
    "    df_out.index = list(map(lambda x: re.sub(r\"=R\", \"\", x), xfx_list[:-1]))\n",
    "    df_out.index = list(map(lambda x: x[:3] + '/' + x[3:], df_out.index))\n",
    "    trace = go.Scatter(\n",
    "        mode='markers',\n",
    "        x=df_out['91D Z-Scores'],\n",
    "        y=df_out['Correlation vs ' + _base_currency],\n",
    "        text=df_out.index.tolist(),\n",
    "        marker=dict(\n",
    "            size=7,\n",
    "            color=np.abs((df_out['91D Z-Scores']).astype(float)),\n",
    "            colorscale='Sunsetdark'\n",
    "        )\n",
    "    )\n",
    "\n",
    "    fig = go.Figure()\n",
    "    fig.layout.title = 'Currency relative strength'\n",
    "    fig.add_trace(trace)\n",
    "    fig.layout.xaxis.title = '91D Z-Scores'\n",
    "    fig.layout.yaxis.title = 'Correlation vs ' + _base_currency\n",
    "    refinitiv_layout(fig)\n",
    "    fig.show()\n",
    "    return df_out"
   ]
  },
  {
   "cell_type": "code",
   "execution_count": 6,
   "metadata": {},
   "outputs": [],
   "source": [
    "rd.close_session()\n"
   ]
  },
  {
   "cell_type": "code",
   "execution_count": null,
   "metadata": {},
   "outputs": [],
   "source": []
  }
 ],
 "metadata": {
  "kernelspec": {
   "display_name": "Python 3 (ipykernel)",
   "language": "python",
   "name": "python3"
  },
  "language_info": {
   "codemirror_mode": {
    "name": "ipython",
    "version": 3
   },
   "file_extension": ".py",
   "mimetype": "text/x-python",
   "name": "python",
   "nbconvert_exporter": "python",
   "pygments_lexer": "ipython3",
   "version": "3.9.13"
  },
  "widgets": {
   "application/vnd.jupyter.widget-state+json": {
    "state": {},
    "version_major": 2,
    "version_minor": 0
   }
  }
 },
 "nbformat": 4,
 "nbformat_minor": 4
}
