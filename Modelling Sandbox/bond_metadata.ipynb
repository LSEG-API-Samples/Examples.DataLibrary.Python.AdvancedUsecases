{
 "cells": [
  {
   "cell_type": "code",
   "execution_count": 4,
   "metadata": {},
   "outputs": [
    {
     "data": {
      "text/plain": [
       "<refinitiv.data.session.Definition object at 0x7f088fe2d7f0 {name='codebook'}>"
      ]
     },
     "execution_count": 4,
     "metadata": {},
     "output_type": "execute_result"
    }
   ],
   "source": [
    "import refinitiv.data as rd\n",
    "from refinitiv.data.content import symbol_conversion\n",
    "from datetime import datetime, date\n",
    "import pandas as pd\n",
    "import numpy as np\n",
    "rd.open_session()\n"
   ]
  },
  {
   "cell_type": "code",
   "execution_count": 15,
   "metadata": {},
   "outputs": [],
   "source": [
    "cpn_dict = {'FXAN': 'FRB', 'FXDI': 'FRB', 'FXPP': 'FRB', 'FXPM': 'FRB', 'FXMF': 'FRB', 'FXZC': 'FRB', 'FXPV': 'FRB', 'FRBF': 'FRN', 'FRPV': 'FRN', 'FRFF': 'FRN', 'FXRV': 'FRN', 'FROT': 'FRN', 'FRFX': 'FRN',\n",
    "            'FRVR': 'FRN', 'FRFZ': 'FRN', 'FRPM': 'FRN', 'FRSD': 'FRN', 'FRSU': 'FRN', 'VRFR': 'FRN', 'FRZF': 'FRN', 'RGOT': 'FRB', 'TBPD': 'FRN', 'FTZR': 'FRB', 'VRGR': 'FRB', 'ZRFX': 'FRB', 'ZRVR': 'FRB'}\n",
    "\n",
    "\n",
    "def get_bond_type(is_ilb, cpn):\n",
    "\n",
    "    inst_type = []\n",
    "    for x in range(len(is_ilb)):\n",
    "        if str(is_ilb[x]) == 'Y':\n",
    "            inst_type.append('ILB')\n",
    "        else:\n",
    "            inst_type.append(cpn_dict[cpn[x]])\n",
    "    return inst_type\n",
    "\n",
    "\n",
    "def get_data(codes, at_date=''):\n",
    "    today_date = datetime.strptime(\n",
    "        datetime.today().strftime('%Y-%m-%d'), '%Y-%m-%d')\n",
    "    at_date = datetime.strptime(at_date, '%Y-%m-%d') if at_date != '' else ''\n",
    "    realtime = True if (today_date == at_date or at_date == '') else False\n",
    "    output = []\n",
    "    crv = pd.DataFrame()\n",
    "\n",
    "    raw = rd.get_data(codes, ['PRIMACT_1', 'SEC_ACT_1', 'RT_YIELD_1', 'SEC_YLD_1', 'PRC_QL3',\n",
    "                              'TR.FiMaturityDate', 'TR.ADF_BONDSTRUCTURE', 'TR.ADF_RATESTRUCTURE', 'TR.ADF_STRUCTURE', 'TR.FiCouponRate',\n",
    "                              'TR.FiCurrency', 'TR.FiDescription', 'TR.FiInflationProtected', 'TR.FiCouponType', 'TR.ADF_MARGIN',\n",
    "                              'TR.FiSeniorityType', 'TR.FiIsBenchmark', 'TR.UltimateParentId', 'TR.FiIsPutable', 'TR.FiIsCallable',\n",
    "                              'TR.FiIsSinkable', 'TR.FiIsPerpetualSecurity', 'TR.FiNextCallDate'])\n",
    "    raw = raw.dropna(how='all', subset=[\n",
    "                      'PRIMACT_1', 'SEC_ACT_1', 'RT_YIELD_1', 'SEC_YLD_1'])\n",
    "    raw = raw.drop_duplicates(subset=['Instrument'])\n",
    "    raw = raw.reset_index(drop=True)\n",
    "    crv['ric'] = raw['Instrument']\n",
    "    tmp_ric = raw['Instrument'].tolist()\n",
    "\n",
    "    isin = symbol_conversion.Definition(\n",
    "        symbols=tmp_ric).get_data().data.df\n",
    "    crv['isin'] = isin['IssueISIN'].tolist()\n",
    "    crv['maturity'] = raw['Maturity Date']\n",
    "    crv['coupon'] = raw['Coupon Rate'] / 100\n",
    "    crv['currency'] = raw['Currency']\n",
    "    crv['bond_structure'] = raw['Bond Structure']\n",
    "    crv['rate_structure'] = raw['Rate Structure']\n",
    "    crv['structure'] = raw['Structure']\n",
    "    crv['description'] = raw['Description']\n",
    "    crv['seniority'] = raw['Seniority Type']\n",
    "    crv['putable'] = raw['Is Putable']\n",
    "    crv['callable'] = raw['Is Callable']\n",
    "    crv['sinkable'] = raw['Is Sinkable']\n",
    "    crv['bond_type'] = get_bond_type(\n",
    "        raw['Inflation Protected'].tolist(), raw['Coupon Type'].tolist())\n",
    "    crv['quoted_margin'] = pd.to_numeric(raw['FRN Margin']) / 100\n",
    "    crv['issuer_permid'] = raw['Ultimate Parent Id']\n",
    "    crv['is_benchmark'] = raw['Is Benchmark']\n",
    "    crv['is_perpetual'] = raw['Is Perpetual Security']\n",
    "    crv['call_date'] = raw['Call Date']\n",
    "\n",
    "    if realtime and crv['maturity'].max() > pd.Timestamp(date.today()):\n",
    "        crv['bid_yield'] = raw['RT_YIELD_1']/100\n",
    "        crv['ask_yield'] = raw['SEC_YLD_1']/100\n",
    "        crv['yield'] = crv['bid_yield']\n",
    "        crv['tenor'] = (pd.to_datetime(\n",
    "            crv['maturity'], format='%Y-%m-%d') - datetime.now()) / np.timedelta64(1, 'D')\n",
    "        crv['quotation_method'] = raw['PRC_QL3']\n",
    "        for i, p in enumerate(crv['is_perpetual']):\n",
    "            if p == 'Y':\n",
    "                try:\n",
    "                    crv['tenor'][i] = (pd.to_datetime(\n",
    "                        crv['call_date'][i], format='%Y-%m-%d') - datetime.now()) / np.timedelta64(1, 'D')\n",
    "                except:\n",
    "                    0\n",
    "        crv['tenor'] = crv['tenor'] / 365\n",
    "        crv['bid'] = raw['PRIMACT_1'] / 100\n",
    "        crv['ask'] = raw['SEC_ACT_1'] / 100\n",
    "\n",
    "    return crv"
   ]
  },
  {
   "cell_type": "code",
   "execution_count": 34,
   "metadata": {},
   "outputs": [],
   "source": [
    "rd.close_session()\n"
   ]
  },
  {
   "cell_type": "code",
   "execution_count": null,
   "metadata": {},
   "outputs": [],
   "source": []
  }
 ],
 "metadata": {
  "kernelspec": {
   "display_name": "Python 3",
   "language": "python",
   "name": "python3"
  },
  "language_info": {
   "codemirror_mode": {
    "name": "ipython",
    "version": 3
   },
   "file_extension": ".py",
   "mimetype": "text/x-python",
   "name": "python",
   "nbconvert_exporter": "python",
   "pygments_lexer": "ipython3",
   "version": "3.8.15"
  },
  "widgets": {
   "application/vnd.jupyter.widget-state+json": {
    "state": {},
    "version_major": 2,
    "version_minor": 0
   }
  }
 },
 "nbformat": 4,
 "nbformat_minor": 4
}
