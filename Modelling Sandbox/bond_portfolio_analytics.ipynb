{
 "cells": [
  {
   "cell_type": "code",
   "execution_count": 1,
   "metadata": {},
   "outputs": [
    {
     "data": {
      "text/plain": [
       "<refinitiv.data.session.Definition object at 0x14b5f2430 {name='workspace'}>"
      ]
     },
     "execution_count": 1,
     "metadata": {},
     "output_type": "execute_result"
    }
   ],
   "source": [
    "import refinitiv.data as rd\n",
    "import pandas as pd\n",
    "import numpy as np\n",
    "rd.open_session()\n"
   ]
  },
  {
   "cell_type": "code",
   "execution_count": 2,
   "metadata": {},
   "outputs": [],
   "source": [
    "\n",
    "def get_data(bond_rics, amt):\n",
    "\n",
    "    total_amt = sum(amt)\n",
    "    port = pd.DataFrame()\n",
    "    port['ric'] = bond_rics\n",
    "    port['amt'] = amt\n",
    "    bdanalytics = rd.get_data(bond_rics, [\n",
    "                              'TR.ZSpreadAnalytics', 'TR.ModifiedDurationAnalytics', 'TR.ConvexityAnalytics'])\n",
    "    bdanalytics = bdanalytics.dropna(axis=0)\n",
    "    port['zspd'] = bdanalytics['Z-Spread']\n",
    "    port['dmod'] = bdanalytics['Modified Duration']\n",
    "    port['conv'] = bdanalytics['Convexity']\n",
    "    port['alloc'] = list(map(lambda x: x / total_amt, amt))\n",
    "    port_zspd = sum(list(map(lambda a, b: a * b, port['alloc'], port['zspd'])))\n",
    "    port_dmod = sum(list(map(lambda a, b: a * b, port['alloc'], port['dmod'])))\n",
    "    port_conv = sum(list(map(lambda a, b: a * b, port['alloc'], port['conv'])))\n",
    "    portfolio_analytics = {'z-spread': port_zspd,\n",
    "                           'modified duration': port_dmod, 'convexity': port_conv}\n",
    "\n",
    "    return portfolio_analytics"
   ]
  },
  {
   "cell_type": "code",
   "execution_count": null,
   "metadata": {},
   "outputs": [],
   "source": [
    "rd.close_session()\n"
   ]
  }
 ],
 "metadata": {
  "kernelspec": {
   "display_name": "Python 3 (ipykernel)",
   "language": "python",
   "name": "python3"
  },
  "language_info": {
   "codemirror_mode": {
    "name": "ipython",
    "version": 3
   },
   "file_extension": ".py",
   "mimetype": "text/x-python",
   "name": "python",
   "nbconvert_exporter": "python",
   "pygments_lexer": "ipython3",
   "version": "3.9.13"
  }
 },
 "nbformat": 4,
 "nbformat_minor": 4
}
