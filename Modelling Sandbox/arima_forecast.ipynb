{
 "cells": [
  {
   "cell_type": "code",
   "execution_count": 1,
   "metadata": {},
   "outputs": [
    {
     "data": {
      "text/plain": [
       "<refinitiv.data.session.Definition object at 0x178405a90 {name='workspace'}>"
      ]
     },
     "execution_count": 1,
     "metadata": {},
     "output_type": "execute_result"
    }
   ],
   "source": [
    "from statsmodels.tsa.stattools import adfuller\n",
    "from statsmodels.tsa.stattools import acf, pacf\n",
    "from statsmodels.tsa.holtwinters import ExponentialSmoothing\n",
    "from statsmodels.tsa.arima.model import ARIMA\n",
    "from statsmodels.tsa.seasonal import seasonal_decompose\n",
    "from datetime import timedelta, datetime\n",
    "import pandas as pd\n",
    "import matplotlib\n",
    "import matplotlib.pyplot as plt\n",
    "import numpy as np\n",
    "import refinitiv.data as rd\n",
    "import warnings\n",
    "warnings.filterwarnings('ignore')\n",
    "plt.style.use('dark_background')\n",
    "\n",
    "\n",
    "rd.open_session()"
   ]
  },
  {
   "cell_type": "code",
   "execution_count": 3,
   "metadata": {},
   "outputs": [],
   "source": [
    "def get_data(ric, s_date):\n",
    "\n",
    "    spot_df = rd.get_history(\n",
    "        ric, 'TRDPRC_1', interval='daily', start=s_date, count=10000)\n",
    "    _e_date = datetime.fromtimestamp(datetime.timestamp(spot_df.index[-1]))\n",
    "    e_date = _e_date + timedelta(days=1)\n",
    "    e_date = e_date.strftime('%Y-%m-%d')\n",
    "    _e_date = _e_date + timedelta(days=30)\n",
    "    fce_date = _e_date.strftime('%Y-%m-%d')\n",
    "    decomposition = seasonal_decompose(spot_df.TRDPRC_1, period=12)\n",
    "    trend = decomposition.trend\n",
    "    seasonal = decomposition.seasonal\n",
    "    residual = decomposition.resid\n",
    "    spot_df['spot_1diff'] = spot_df['TRDPRC_1'].diff()\n",
    "    spot_df = spot_df[spot_df['spot_1diff'].notnull()]  # drop null rows\n",
    "    lag_acf = acf(spot_df['spot_1diff'], nlags=50)\n",
    "    lag_pacf = pacf(spot_df['spot_1diff'], nlags=50, method='ols')\n",
    "    new_spot = spot_df['spot_1diff'].resample(\n",
    "        'D').ffill()  # resample per day and fill the gaps\n",
    "    new_spot = new_spot.bfill()\n",
    "    new_spot = new_spot.astype('float')\n",
    "    arma_model = ARIMA(new_spot, order=(1, 0, 1))\n",
    "    results = arma_model.fit()\n",
    "    residuals = pd.DataFrame(results.resid)\n",
    "    predictions_ARIMA = pd.Series(results.fittedvalues, copy=True)\n",
    "    predictions_ARIMA_cumsum = predictions_ARIMA.cumsum()\n",
    "    predictions_ARIMA_final = pd.Series(\n",
    "        spot_df['TRDPRC_1'].iloc[0], index=new_spot.index)\n",
    "    predictions_ARIMA_final = predictions_ARIMA_final.add(\n",
    "        predictions_ARIMA_cumsum, fill_value=0)\n",
    "    new_spot = spot_df.TRDPRC_1.resample(\n",
    "        'D', label='right').ffill().astype('float')\n",
    "    es_model = ExponentialSmoothing(\n",
    "        new_spot, trend='add', damped=False, seasonal='mul', seasonal_periods=30)\n",
    "    es_results = es_model.fit()\n",
    "    predicted_values = es_model.predict(\n",
    "        params=es_results.params, start=e_date, end=fce_date)\n",
    "    preds = pd.DataFrame(index=pd.date_range(\n",
    "        start=e_date, end=fce_date), data=predicted_values, columns=['TRDPRC_1'])\n",
    "    plt.figure(figsize=(16, 7))\n",
    "    plt.plot(new_spot, label='Actual')\n",
    "    plt.plot(preds, label='Forecast', color='pink')\n",
    "    plt.legend(loc='best')\n",
    "    plt.show()\n",
    "\n",
    "    return preds"
   ]
  },
  {
   "cell_type": "code",
   "execution_count": null,
   "metadata": {},
   "outputs": [],
   "source": [
    "rd.close_session()\n"
   ]
  }
 ],
 "metadata": {
  "kernelspec": {
   "display_name": "Python 3 (ipykernel)",
   "language": "python",
   "name": "python3"
  },
  "language_info": {
   "codemirror_mode": {
    "name": "ipython",
    "version": 3
   },
   "file_extension": ".py",
   "mimetype": "text/x-python",
   "name": "python",
   "nbconvert_exporter": "python",
   "pygments_lexer": "ipython3",
   "version": "3.9.13"
  },
  "widgets": {
   "application/vnd.jupyter.widget-state+json": {
    "state": {},
    "version_major": 2,
    "version_minor": 0
   }
  }
 },
 "nbformat": 4,
 "nbformat_minor": 4
}
