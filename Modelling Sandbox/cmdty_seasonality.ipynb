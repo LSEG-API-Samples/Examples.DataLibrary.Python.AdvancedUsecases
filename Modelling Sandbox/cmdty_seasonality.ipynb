{
 "cells": [
  {
   "cell_type": "code",
   "execution_count": 1,
   "metadata": {},
   "outputs": [
    {
     "data": {
      "text/html": [
       "        <script type=\"text/javascript\">\n",
       "        window.PlotlyConfig = {MathJaxConfig: 'local'};\n",
       "        if (window.MathJax) {MathJax.Hub.Config({SVG: {font: \"STIX-Web\"}});}\n",
       "        if (typeof require !== 'undefined') {\n",
       "        require.undef(\"plotly\");\n",
       "        requirejs.config({\n",
       "            paths: {\n",
       "                'plotly': ['https://cdn.plot.ly/plotly-2.6.3.min']\n",
       "            }\n",
       "        });\n",
       "        require(['plotly'], function(Plotly) {\n",
       "            window._Plotly = Plotly;\n",
       "        });\n",
       "        }\n",
       "        </script>\n",
       "        "
      ]
     },
     "metadata": {},
     "output_type": "display_data"
    },
    {
     "data": {
      "text/plain": [
       "<refinitiv.data.session.Definition object at 0x7f429e2abc40 {name='codebook'}>"
      ]
     },
     "execution_count": 1,
     "metadata": {},
     "output_type": "execute_result"
    }
   ],
   "source": [
    "import pandas as pd\n",
    "import numpy as np\n",
    "import refinitiv.data as rd\n",
    "import cufflinks as cf\n",
    "from datetime import datetime\n",
    "import calendar\n",
    "from pandas.tseries.offsets import BMonthEnd\n",
    "import warnings\n",
    "\n",
    "cf.go_offline()\n",
    "warnings.filterwarnings('ignore')\n",
    "\n",
    "rd.open_session()"
   ]
  },
  {
   "cell_type": "code",
   "execution_count": 30,
   "metadata": {},
   "outputs": [],
   "source": [
    "m_code = {1: 'F', 2: 'G', 3: 'H', 4: 'J', 5: 'K', 6: 'M',\n",
    "          7: 'N', 8: 'Q', 9: 'U', 10: 'V', 11: 'X', 12: 'Z'}\n",
    "\n",
    "\n",
    "def sys_year():\n",
    "    today_date = datetime.strptime(\n",
    "        datetime.today().strftime('%Y-%m-%d'), '%Y-%m-%d')\n",
    "    y = str(today_date.year)[-2:]\n",
    "    return y\n",
    "\n",
    "\n",
    "def last_workday(d):\n",
    "    last = BMonthEnd()\n",
    "    return last.rollforward(d)\n",
    "\n",
    "\n",
    "def eom(y, m):\n",
    "    ed = last_workday(datetime(year=int(y), month=m, day=1)\n",
    "                      ).strftime('%Y-%m-%d')\n",
    "    return ed\n",
    "\n",
    "\n",
    "def som(y, m):\n",
    "    sd = datetime(year=int(y), month=m, day=1).strftime('%Y-%m-%d')\n",
    "    return sd\n",
    "\n",
    "\n",
    "def is_continuous(r):\n",
    "    return 'c' in r\n",
    "\n",
    "\n",
    "def gen_contracts(r, d, m):\n",
    "    if m == None:\n",
    "        now = datetime.now()\n",
    "        m = now.month\n",
    "    xd = rd.get_data(r, 'EXPIR_DATE')\n",
    "    xd = xd['EXPIR_DATE'][0]\n",
    "    _m = xd.month if m is None else m\n",
    "    _y = xd.year\n",
    "    _x = []\n",
    "    x = []\n",
    "    root = contract_data(r)\n",
    "    if is_continuous(r):\n",
    "        root += str(m_code[m])\n",
    "\n",
    "    while d >= 0:\n",
    "        if d == 0:\n",
    "            _x = ('{}{}'.format(root, str(_y - d)[-1:]))\n",
    "            _ed = eom(_y-d, _m)\n",
    "        else:\n",
    "            dec = str(_y - d)[-2:][0]\n",
    "            _x = '{}{}^{}'.format(root, str(_y - d)[-1], dec)\n",
    "            _ed = eom(_y-d, _m)\n",
    "        _sd = som(_y-d, _m)\n",
    "        x.append([_x, _sd, _ed])\n",
    "        d -= 1\n",
    "    return x\n",
    "\n",
    "\n",
    "def contract_data(r):\n",
    "    if is_continuous(r):\n",
    "        root = r.split('c')[0]\n",
    "    else:\n",
    "        k = list(r)\n",
    "        root = ''.join(k[:-1])\n",
    "    return root\n",
    "\n",
    "\n",
    "def get_timeseries_seq(l):\n",
    "    d = {}\n",
    "    for i in l:\n",
    "        d[i[0]] = rd.get_history(\n",
    "            i[0], 'SETTLE', start=i[1], end=i[2], interval='daily')\n",
    "    return d\n",
    "\n",
    "\n",
    "def get_data(ric, num_years=5, mm=None):\n",
    "\n",
    "    frames = gen_contracts(ric, num_years, mm)\n",
    "    hist = get_timeseries_seq(frames)\n",
    "    seasonal = pd.DataFrame()\n",
    "    for k in hist.keys():\n",
    "        _idx = []\n",
    "        for i in range(len(hist[k])):\n",
    "            _idx.append(list(hist[k].index)[i].strftime('%b-%d'))\n",
    "        hist[k]['Dates'] = _idx\n",
    "\n",
    "    seasonal_df = pd.DataFrame(columns=['Dates'])\n",
    "    for k in hist.keys():\n",
    "        seasonal_df = pd.merge(seasonal_df, hist[k],on ='Dates', how='outer')\n",
    "        seasonal_df.rename(columns = {'SETTLE':f'{k}'}, inplace = True)\n",
    "    seasonal_df = seasonal_df.sort_values(by='Dates')\n",
    "    seasonal_df = seasonal_df.fillna(method='backfill')\n",
    "    seasonal_df = seasonal_df.reset_index(drop=True)\n",
    "    seasonal_df.index = seasonal_df['Dates']\n",
    "    seasonal_df = seasonal_df.drop(columns='Dates')\n",
    "    seasonal_df = seasonal_df.astype('float')\n",
    "    seasonal_df.iplot(theme='solar', colors=['#6978F7', '#A325E9', '#96E05D', '#4A7FB9', '#E75A2D', '#FBE55A', '#8C8C8D', '#5A54F6'])\n",
    "\n",
    "    return seasonal_df\n"
   ]
  },
  {
   "cell_type": "code",
   "execution_count": null,
   "metadata": {},
   "outputs": [],
   "source": [
    "rd.close_session()"
   ]
  }
 ],
 "metadata": {
  "kernelspec": {
   "display_name": "Python 3",
   "language": "python",
   "name": "python3"
  },
  "language_info": {
   "codemirror_mode": {
    "name": "ipython",
    "version": 3
   },
   "file_extension": ".py",
   "mimetype": "text/x-python",
   "name": "python",
   "nbconvert_exporter": "python",
   "pygments_lexer": "ipython3",
   "version": "3.8.15"
  },
  "vscode": {
   "interpreter": {
    "hash": "c85fff1d8f64dd81ed62580beef2fa8681baae0ff4c4324d6e96d73878a4932d"
   }
  },
  "widgets": {
   "application/vnd.jupyter.widget-state+json": {
    "state": {},
    "version_major": 2,
    "version_minor": 0
   }
  }
 },
 "nbformat": 4,
 "nbformat_minor": 4
}
