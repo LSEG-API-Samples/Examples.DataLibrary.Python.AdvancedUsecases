{
 "cells": [
  {
   "cell_type": "markdown",
   "metadata": {},
   "source": [
    "# Bond Calculator\n",
    "\n",
    "This is an example oof a bond calculator powered by IPA."
   ]
  },
  {
   "cell_type": "code",
   "execution_count": 1,
   "metadata": {},
   "outputs": [
    {
     "data": {
      "text/plain": [
       "<refinitiv.data.session.Definition object at 0x14c07ab20 {name='workspace'}>"
      ]
     },
     "execution_count": 1,
     "metadata": {},
     "output_type": "execute_result"
    }
   ],
   "source": [
    "import refinitiv.data as rd\n",
    "import refinitiv.data.content.ipa.financial_contracts as rdf\n",
    "from refinitiv.data.content.ipa.financial_contracts import bond\n",
    "import ipywidgets as widgets\n",
    "import pandas as pd\n",
    "from datetime import datetime\n",
    "import dateutil.parser\n",
    "\n",
    "rd.open_session()"
   ]
  },
  {
   "cell_type": "code",
   "execution_count": 2,
   "metadata": {},
   "outputs": [],
   "source": [
    "# CALCULATIONS & FUNCTIONS\n",
    "ignore_events = False\n",
    "redemptionDateType = None\n",
    "redemption_type_map = {'Maturity': 'RedemptionAtMaturityDate',\n",
    "                       'Call': 'RedemptionAtCallDate',\n",
    "                       'Put': 'RedemptionAtPutDate',\n",
    "                       'Best': 'RedemptionAtBestDate',\n",
    "                       'Worst': 'RedemptionAtWorstDate'}\n",
    "\n",
    "changed_parameters = []\n",
    "analytics_df = None\n",
    "\n",
    "\n",
    "def parse_date(tz):\n",
    "    d = dateutil.parser.parse(tz)\n",
    "    return d.date()\n",
    "\n",
    "\n",
    "def bond_calculate(universe, parameters):\n",
    "    global instrument_description_text, trade_date, settlement_date, settle_wd, clean_price_text, clean_price_text\n",
    "    global price_type_dropdown, yield_input, yield_type_dropdown, redemption_date, redemption_price, accrued_out, dirty_price_text, redemptionDateType\n",
    "    global coupon_dates_text, coupon_frequency_text, ex_dividend_text, coupon_rate_text\n",
    "    print(universe)\n",
    "    df = rdf.Definitions(\n",
    "        universe=[universe],\n",
    "        pricing_parameters=parameters\n",
    "    ).get_data().data.df\n",
    "    \n",
    "    instrument_description_text.value = df['InstrumentDescription'][0]\n",
    "    trade_date.value = df['MarketDataDate'][0]\n",
    "    settlement_date.value = df['ValuationDate'][0]\n",
    "    settle_wd.value = int(df['SettlementConvention'][0][0])\n",
    "    clean_price_text.value = df['CleanPricePercent'][0]\n",
    "    if df['PriceSide'][0] == None:\n",
    "        price_side = 'Custom'\n",
    "    else:\n",
    "        price_side = df['PriceSide'][0]\n",
    "    price_type_dropdown.value = price_side\n",
    "    yield_input.value = df['YieldPercent'][0]\n",
    "    yield_type_dropdown.value = df['RedemptionYieldType'][0].replace(\n",
    "        'YieldTo', '')\n",
    "    redemption_date.value = df['RedemptionDate'][0].strftime('%Y-%m-%d')\n",
    "    redemptionDateType = df['RedemptionDateType'][0]\n",
    "    redemption_price.value = str(df['RedemptionPrice'][0])\n",
    "    accrued_out.value = str(df['Accrued'][0])\n",
    "    dirty_price_text.value = df['DirtyPricePercent'][0]\n",
    "    coupon_dates_text.value = str(\n",
    "        df['PreviousCouponDate'][0])+'-'+str(df['NextCouponDate'][0])\n",
    "    coupon_frequency_text.value = df['InterestPaymentFrequency'][0]\n",
    "    ex_dividend_text.value = str(df['NextExDividendDate'][0])\n",
    "    coupon_rate_text.value = str(df['NextCouponRatePercent'][0])\n",
    "    analytics_df = df\n",
    "    return df\n",
    "\n",
    "\n",
    "def fetch_data(ric):\n",
    "    global instrument_description_text, trade_date, settlement_date, settle_wd, clean_price_text, clean_price_text\n",
    "    global price_type_dropdown, yield_input, yield_type_dropdown, redemption_date, redemption_date_type, redemption_price, accrued_out, dirty_price_text\n",
    "    global coupon_dates_text, coupon_frequency_text, ex_dividend_text, coupon_rate_text\n",
    "    global analytics_df\n",
    "\n",
    "    df = bond.Definition(instrument_code=ric).get_data().data.df\n",
    "\n",
    "    instrument_description_text.value = df['InstrumentDescription'][0]\n",
    "    trade_date.value = df['MarketDataDate'][0]\n",
    "    settlement_date.value = df['ValuationDate'][0]\n",
    "    settle_wd.value = int(df['SettlementConvention'][0][0])\n",
    "    clean_price_text.value = df['CleanPricePercent'][0]\n",
    "    if df['PriceSide'][0] == None:\n",
    "        price_side = 'Custom'\n",
    "    else:\n",
    "        price_side = df['PriceSide'][0]\n",
    "    price_type_dropdown.value = price_side\n",
    "    yield_input.value = df['YieldPercent'][0]\n",
    "    yield_type_dropdown.value = df['RedemptionYieldType'][0].replace(\n",
    "        'YieldTo', '')\n",
    "    redemption_date.value = str(df['RedemptionDate'][0])\n",
    "    redemptionDateType = df['RedemptionDateType'][0]\n",
    "    redemption_price.value = str(df['RedemptionPrice'][0])\n",
    "    accrued_out.value = str(df['Accrued'][0])\n",
    "    dirty_price_text.value = df['DirtyPricePercent'][0]\n",
    "    coupon_dates_text.value = str(\n",
    "        df['PreviousCouponDate'][0])+'-'+str(df['NextCouponDate'][0])\n",
    "    coupon_frequency_text.value = df['InterestPaymentFrequency'][0]\n",
    "    ex_dividend_text.value = str(df['NextExDividendDate'][0])\n",
    "    coupon_rate_text.value = str(df['NextCouponRatePercent'][0])\n",
    "    analytics_df = df\n",
    "    return df\n",
    "\n",
    "\n",
    "def start():\n",
    "    global ignore_events\n",
    "    ignore_events = True\n",
    "    fetch_data(str(instrument_input.value))\n",
    "    ignore_events = False\n",
    "    return\n",
    "\n",
    "\n",
    "def create_calculation_params(parameters):\n",
    "\n",
    "    if 'marketDataDate' in changed_parameters:\n",
    "        market_data_date = str(trade_date.value)\n",
    "    else:\n",
    "        market_data_date = None\n",
    "\n",
    "    if 'valuationDate' in changed_parameters:\n",
    "        valuation_date = str(settlement_date.value)\n",
    "    else:\n",
    "        valuation_date = None\n",
    "\n",
    "    if 'settlementConvention' in changed_parameters:\n",
    "        settlement_convention = str(settle_wd.value)+'WD'\n",
    "        universe = bond.Definition(\n",
    "            instrument_code = instrument_input.value,\n",
    "            pricing_parameters = bond.PricingParameters(\n",
    "                settlement_convention=settlement_convention))\n",
    "    else:\n",
    "        settlement_convention = None\n",
    "        universe = instrument_input.value\n",
    "\n",
    "    if 'CleanPrice' in changed_parameters:\n",
    "        clean_price = clean_price_text.value\n",
    "    else:\n",
    "        clean_price = None\n",
    "\n",
    "    if 'priceSide' in changed_parameters:\n",
    "        if price_type_dropdown.value == 'Custom':\n",
    "            price_side = None\n",
    "        else:\n",
    "            price_side = bond.PriceSide(\n",
    "                price_type_dropdown.value)\n",
    "    else:\n",
    "        price_side = None\n",
    "\n",
    "    if 'YieldPercent' in changed_parameters:\n",
    "        yield_percent = yield_input.value\n",
    "    else:\n",
    "        yield_percent = None\n",
    "\n",
    "    if 'RedemptionDateType' in changed_parameters:\n",
    "        redemption_date_type = bond.RedemptionDateType(\n",
    "            redemptionDateType)\n",
    "    else:\n",
    "        redemption_date_type = None\n",
    "\n",
    "    if 'DirtyPrice' in changed_parameters:\n",
    "        dirty_price = dirty_price_text.value\n",
    "    else:\n",
    "        dirty_price = None\n",
    "\n",
    "    calculation_params = bond.PricingParameters(\n",
    "        market_data_date=market_data_date,\n",
    "        valuation_date=valuation_date,\n",
    "        clean_price=clean_price,\n",
    "        price_side=price_side,\n",
    "        yield_percent=yield_percent,\n",
    "        redemption_date_type=redemption_date_type,\n",
    "        dirty_price=dirty_price\n",
    "    )\n",
    "\n",
    "    return universe, calculation_params\n",
    "\n",
    "\n",
    "def instrument_change(value):\n",
    "    global ignore_events, changed_parameters\n",
    "    if not ignore_events:\n",
    "        ignore_events = True\n",
    "        ric = value['new']\n",
    "        changed_parameters = []\n",
    "        fetch_data(ric)\n",
    "        ignore_events = False\n",
    "    return\n",
    "\n",
    "\n",
    "def reset(value):\n",
    "    global ignore_events, changed_parameters\n",
    "    if not ignore_events:\n",
    "        ignore_events = True\n",
    "        ric = instrument_input.value\n",
    "        changed_parameters = []\n",
    "        fetch_data(ric)\n",
    "        ignore_events = False\n",
    "    return\n",
    "\n",
    "\n",
    "def trade_date_change(value):\n",
    "    global ignore_events, changed_parameters\n",
    "    if not ignore_events:\n",
    "        ignore_events = True\n",
    "        if 'marketDataDate' not in changed_parameters:\n",
    "            changed_parameters.append('marketDataDate')\n",
    "            if ('valuationDate' in changed_parameters) & ('settlementConvention' in changed_parameters):\n",
    "                changed_parameters.remove('settlementConvention')\n",
    "        universe, calculation_params = create_calculation_params(\n",
    "            changed_parameters)\n",
    "        bond_calculate(universe, calculation_params)\n",
    "        ignore_events = False\n",
    "    return\n",
    "\n",
    "\n",
    "def settle_date_change(value):\n",
    "    global ignore_events, changed_parameters\n",
    "    if not ignore_events:\n",
    "        ignore_events = True\n",
    "        if 'valuationDate' not in changed_parameters:\n",
    "            changed_parameters.append('valuationDate')\n",
    "            if ('marketDataDate' in changed_parameters) & ('settlementConvention' in changed_parameters):\n",
    "                changed_parameters.remove('settlementConvention')\n",
    "        universe, calculation_params = create_calculation_params(\n",
    "            changed_parameters)\n",
    "        bond_calculate(universe, calculation_params)\n",
    "        ignore_events = False\n",
    "    return\n",
    "\n",
    "\n",
    "def settle_wd_change(value):\n",
    "    global ignore_events, changed_parameters\n",
    "    if not ignore_events:\n",
    "        ignore_events = True\n",
    "        if not (('valuationDate' in changed_parameters) & ('marketDataDate' in changed_parameters)):\n",
    "            changed_parameters.append('settlementConvention')\n",
    "            universe, calculation_params = create_calculation_params(\n",
    "                changed_parameters)\n",
    "            bond_calculate(universe, calculation_params)\n",
    "        else:\n",
    "            settle_wd.value = value['old']\n",
    "        ignore_events = False\n",
    "    return\n",
    "\n",
    "\n",
    "def clean_price_change(value):\n",
    "    global ignore_events, changed_parameters\n",
    "    if not ignore_events:\n",
    "        ignore_events = True\n",
    "        if 'CleanPrice' not in changed_parameters:\n",
    "            changed_parameters.append('CleanPrice')\n",
    "            if 'DirtyPrice' in changed_parameters:\n",
    "                changed_parameters.remove('DirtyPrice')\n",
    "            if 'YieldPercent' in changed_parameters:\n",
    "                changed_parameters.remove('YieldPercent')\n",
    "            if 'priceSide' in changed_parameters:\n",
    "                changed_parameters.remove('priceSide')\n",
    "        universe, calculation_params = create_calculation_params(\n",
    "            changed_parameters)\n",
    "        bond_calculate(universe, calculation_params)\n",
    "        ignore_events = False\n",
    "    return\n",
    "\n",
    "\n",
    "def price_type_change(value):\n",
    "    global ignore_events, changed_parameters\n",
    "    price_type = value['new']\n",
    "    if not ignore_events:\n",
    "        ignore_events = True\n",
    "        if price_type != 'Custom':\n",
    "            if 'priceSide' not in changed_parameters:\n",
    "                changed_parameters.append('priceSide')\n",
    "            if 'DirtyPrice' in changed_parameters:\n",
    "                changed_parameters.remove('DirtyPrice')\n",
    "            if 'YieldPercent' in changed_parameters:\n",
    "                changed_parameters.remove('YieldPercent')\n",
    "            if 'CleanPrice' in changed_parameters:\n",
    "                changed_parameters.remove('CleanPrice')\n",
    "            universe, calculation_params = create_calculation_params(\n",
    "                changed_parameters)\n",
    "            bond_calculate(universe, calculation_params)\n",
    "        ignore_events = False\n",
    "    return\n",
    "\n",
    "\n",
    "def yield_change(value):\n",
    "    global ignore_events, changed_parameters\n",
    "    if not ignore_events:\n",
    "        ignore_events = True\n",
    "        if 'YieldPercent' not in changed_parameters:\n",
    "            changed_parameters.append('YieldPercent')\n",
    "            if 'DirtyPrice' in changed_parameters:\n",
    "                changed_parameters.remove('DirtyPrice')\n",
    "            if 'CleanPrice' in changed_parameters:\n",
    "                changed_parameters.remove('CleanPrice')\n",
    "            if 'priceSide' in changed_parameters:\n",
    "                changed_parameters.remove('priceSide')\n",
    "        universe, calculation_params = create_calculation_params(\n",
    "            changed_parameters)\n",
    "        bond_calculate(universe, calculation_params)\n",
    "        ignore_events = False\n",
    "    return\n",
    "\n",
    "\n",
    "def yield_type_change(value):\n",
    "    global ignore_events, changed_parameters\n",
    "    if not ignore_events:\n",
    "        ignore_events = True\n",
    "        redemptionDateType = redemption_type_map[value['new']]\n",
    "        if 'RedemptionDateType' not in changed_parameters:\n",
    "            changed_parameters.append('RedemptionDateType')\n",
    "        universe, calculation_params = create_calculation_params(\n",
    "            changed_parameters)\n",
    "        bond_calculate(universe, calculation_params)\n",
    "        ignore_events = False\n",
    "\n",
    "    return\n",
    "\n",
    "\n",
    "def dirty_price_change(value):\n",
    "    global ignore_events\n",
    "    if not ignore_events:\n",
    "        ignore_events = True\n",
    "        if 'DirtyPrice' not in changed_parameters:\n",
    "            changed_parameters.append('DirtyPrice')\n",
    "            if 'CleanPrice' in changed_parameters:\n",
    "                changed_parameters.remove('CleanPrice')\n",
    "            if 'YieldPercent' in changed_parameters:\n",
    "                changed_parameters.remove('YieldPercent')\n",
    "            if 'priceSide' in changed_parameters:\n",
    "                changed_parameters.remove('priceSide')\n",
    "        universe, calculation_params = create_calculation_params(\n",
    "            changed_parameters)\n",
    "        bond_calculate(universe, calculation_params)\n",
    "        ignore_events = False\n",
    "    return"
   ]
  },
  {
   "cell_type": "code",
   "execution_count": 4,
   "metadata": {},
   "outputs": [
    {
     "data": {
      "application/vnd.jupyter.widget-view+json": {
       "model_id": "ac59abbc8761420c9c4e11df0a1b6171",
       "version_major": 2,
       "version_minor": 0
      },
      "text/plain": [
       "VBox(children=(VBox(children=(HBox(children=(Text(value='US5YT=RR', continuous_update=False, description='RIC'…"
      ]
     },
     "execution_count": 4,
     "metadata": {},
     "output_type": "execute_result"
    }
   ],
   "source": [
    "# USER INTERFACE\n",
    "# widgets.Layout(border = 'solid 0.7px blue'))\n",
    "\n",
    "left_labels_width = '120px'\n",
    "style = {'description_width': left_labels_width}\n",
    "layout = {'width': '450px'}\n",
    "box_layout = {'margin': '0'}\n",
    "\n",
    "# instrument input\n",
    "instrument_input = widgets.Text(description='RIC', value='US5YT=RR', continuous_update=False, layout=widgets.Layout(\n",
    "    margin='0 0 0 0', width='320px'), style={'description_width': '25px'})\n",
    "instrument_input.observe(instrument_change, names='value')\n",
    "button_reset = widgets.Button(icon='undo', tooltip='Reset changes',\n",
    "                              layout=widgets.Layout(padding='0 0 0 0', width='26px'))\n",
    "button_reset.on_click(reset)\n",
    "instrument_description_text = widgets.Label('No instrument')\n",
    "\n",
    "instrument_panel = widgets.HBox([instrument_input, button_reset])\n",
    "header_box = widgets.VBox([instrument_panel, instrument_description_text],\n",
    "                          layout=widgets.Layout(margin='0 0 0 0', width='450px'))\n",
    "\n",
    "# settlement\n",
    "trade_date = widgets.DatePicker(\n",
    "    description='Trade date', continuous_update=False, style=style)\n",
    "trade_date.observe(trade_date_change, names='value')\n",
    "settlement_date = widgets.DatePicker(\n",
    "    description='Settlement date', continuous_update=False, style=style)\n",
    "settlement_date.observe(settle_date_change, names='value')\n",
    "settle_wd = widgets.IntText(continuous_update=False, layout={'width': '50px'})\n",
    "settle_wd.observe(settle_wd_change, names='value')\n",
    "label_wd = widgets.Label('D')\n",
    "trade_box = widgets.HBox([trade_date])\n",
    "\n",
    "settlement_rules = widgets.HBox([settlement_date, settle_wd, label_wd])\n",
    "settlement_box = widgets.VBox([trade_box, settlement_rules])\n",
    "\n",
    "# pricing\n",
    "clean_price_text = widgets.FloatText(\n",
    "    description='Clean price (%)', continuous_update=False, style=style)\n",
    "clean_price_text.observe(clean_price_change, names='value')\n",
    "price_type_dropdown = widgets.Dropdown(options=['Bid', 'Ask', 'Mid', 'Custom'],\n",
    "                                       value='Bid',\n",
    "                                       continuous_update=False,\n",
    "                                       layout={'width': '80px'}\n",
    "                                       )\n",
    "price_type_dropdown.observe(price_type_change, names='value')\n",
    "\n",
    "price_box = widgets.HBox([clean_price_text, price_type_dropdown])\n",
    "\n",
    "yield_input = widgets.FloatText(\n",
    "    description='Yield (%)', continuous_update=False, style=style)\n",
    "yield_input.observe(yield_change, names='value')\n",
    "yield_type_dropdown = widgets.Dropdown(options=['Maturity', 'Put', 'Call', 'Worst', 'Best'],\n",
    "                                       value='Maturity',\n",
    "                                       continuous_update=False,\n",
    "                                       layout={'width': '80px'}\n",
    "                                       )\n",
    "yield_type_dropdown.observe(yield_type_change, names='value')\n",
    "\n",
    "yields_box = widgets.HBox([yield_input, yield_type_dropdown])\n",
    "\n",
    "redemption_date = widgets.Text(\n",
    "    description='Redemption date', continuous_update=False, style=style, disabled=True)\n",
    "redemption_price = widgets.Text(\n",
    "    description='Redemption price', continuous_update=False, style=style, disabled=True)\n",
    "redemption_box = widgets.VBox([redemption_date, redemption_price])\n",
    "\n",
    "accrued_out = widgets.Text(description='Accrued',\n",
    "                           continuous_update=False, style=style, disabled=True)\n",
    "\n",
    "dirty_price_text = widgets.FloatText(\n",
    "    description='Dirty price (%)', continuous_update=False, style=style)\n",
    "dirty_price_text.observe(dirty_price_change, names='value')\n",
    "\n",
    "pricing_box = widgets.VBox(\n",
    "    [price_box, yields_box, redemption_box, accrued_out, dirty_price_text])\n",
    "\n",
    "# coupon\n",
    "coupon_dates_text = widgets.Text(\n",
    "    description='Previous / next', continuous_update=False, style=style, disabled=True)\n",
    "coupon_frequency_text = widgets.Text(\n",
    "    description='Frequency', continuous_update=False, style=style, disabled=True)\n",
    "ex_dividend_text = widgets.Text(\n",
    "    description='Next ex-dividend', continuous_update=False, style=style, disabled=True)\n",
    "coupon_rate_text = widgets.Text(\n",
    "    description='Rate (%)', continuous_update=False, style=style, disabled=True)\n",
    "\n",
    "coupon_box = widgets.VBox(\n",
    "    [coupon_dates_text, coupon_frequency_text, ex_dividend_text, coupon_rate_text])\n",
    "\n",
    "# side panel\n",
    "accordion_settlement = widgets.Accordion(\n",
    "    children=[settlement_box], layout=widgets.Layout(margin='0 0 0 0', width='450px'))\n",
    "accordion_pricing = widgets.Accordion(\n",
    "    children=[pricing_box], layout=widgets.Layout(margin='0 0 0 0', width='450px'))\n",
    "accordion_coupon = widgets.Accordion(\n",
    "    children=[coupon_box], layout=widgets.Layout(margin='0 0 0 0', width='450px'))\n",
    "accordion_settlement.set_title(0, 'SETTLEMENT')\n",
    "accordion_pricing.set_title(0, 'PRICING')\n",
    "accordion_coupon.set_title(0, 'COUPON')\n",
    "side_panel = widgets.VBox(\n",
    "    [header_box, accordion_settlement, accordion_pricing, accordion_coupon])\n",
    "start()\n",
    "side_panel"
   ]
  },
  {
   "cell_type": "code",
   "execution_count": 5,
   "metadata": {},
   "outputs": [],
   "source": [
    "rd.close_session()"
   ]
  },
  {
   "cell_type": "code",
   "execution_count": null,
   "metadata": {},
   "outputs": [],
   "source": []
  }
 ],
 "metadata": {
  "kernelspec": {
   "display_name": "Python 3 (ipykernel)",
   "language": "python",
   "name": "python3"
  },
  "language_info": {
   "codemirror_mode": {
    "name": "ipython",
    "version": 3
   },
   "file_extension": ".py",
   "mimetype": "text/x-python",
   "name": "python",
   "nbconvert_exporter": "python",
   "pygments_lexer": "ipython3",
   "version": "3.9.13"
  },
  "vscode": {
   "interpreter": {
    "hash": "c85fff1d8f64dd81ed62580beef2fa8681baae0ff4c4324d6e96d73878a4932d"
   }
  },
  "widgets": {
   "application/vnd.jupyter.widget-state+json": {
    "state": {
     "0073a227627e4c25bc61c29c7952b638": {
      "model_module": "@jupyter-widgets/controls",
      "model_module_version": "1.5.0",
      "model_name": "DescriptionStyleModel",
      "state": {
       "description_width": ""
      }
     },
     "012aa8903bd742f9ac0943202109b808": {
      "model_module": "@jupyter-widgets/base",
      "model_module_version": "1.2.0",
      "model_name": "LayoutModel",
      "state": {
       "margin": "0 0 0 0",
       "width": "420px"
      }
     },
     "028012b922a3441eaea450441109c6e1": {
      "model_module": "@jupyter-widgets/controls",
      "model_module_version": "1.5.0",
      "model_name": "DescriptionStyleModel",
      "state": {
       "description_width": ""
      }
     },
     "029717d4857a4f7f952628a57e2c730e": {
      "model_module": "@jupyter-widgets/controls",
      "model_module_version": "1.5.0",
      "model_name": "DescriptionStyleModel",
      "state": {
       "description_width": "120px"
      }
     },
     "04ab2f81ae044346bc2dcd9b49c6f3b8": {
      "model_module": "@jupyter-widgets/base",
      "model_module_version": "1.2.0",
      "model_name": "LayoutModel",
      "state": {
       "margin": "0 0 0 0",
       "width": "450px"
      }
     },
     "04d0d1c954e64dfb803917289538cb60": {
      "model_module": "@jupyter-widgets/controls",
      "model_module_version": "1.5.0",
      "model_name": "VBoxModel",
      "state": {
       "children": [
        "IPY_MODEL_8e4bf8f1fba44f458cfd468262c34948",
        "IPY_MODEL_79665c67229e457c81a606263c2dddbb"
       ],
       "layout": "IPY_MODEL_929113fd78d3421eb65ceab6bbf6c865"
      }
     },
     "053cd1b8f37b4e48b9231ea9bc96e3c4": {
      "model_module": "@jupyter-widgets/controls",
      "model_module_version": "1.5.0",
      "model_name": "DescriptionStyleModel",
      "state": {
       "description_width": "120px"
      }
     },
     "05f1369101f24e1aac3ff6b5518e99ba": {
      "model_module": "@jupyter-widgets/controls",
      "model_module_version": "1.5.0",
      "model_name": "TextModel",
      "state": {
       "continuous_update": false,
       "description": "RIC",
       "layout": "IPY_MODEL_ecae6965c6ec4937bb2119434f48e370",
       "style": "IPY_MODEL_e1f70259915c4c5595d6a17f5e0f7824",
       "value": "US5YT=RR"
      }
     },
     "064f13f937244baa9143ed68d97b1561": {
      "model_module": "@jupyter-widgets/base",
      "model_module_version": "1.2.0",
      "model_name": "LayoutModel",
      "state": {}
     },
     "06c9771aa88d4542a59564e077d4f136": {
      "model_module": "@jupyter-widgets/base",
      "model_module_version": "1.2.0",
      "model_name": "LayoutModel",
      "state": {}
     },
     "079a70a4b78149278b3fb205e85a211c": {
      "model_module": "@jupyter-widgets/base",
      "model_module_version": "1.2.0",
      "model_name": "LayoutModel",
      "state": {}
     },
     "0895db3d3daf4de3af9a3efbe79a3908": {
      "model_module": "@jupyter-widgets/controls",
      "model_module_version": "1.5.0",
      "model_name": "DatePickerModel",
      "state": {
       "description": "Settlement date",
       "disabled": false,
       "layout": "IPY_MODEL_bb6b83058508407e8736049e76af7865",
       "style": "IPY_MODEL_aa1dd2244a0c4b278daaf1a7250f5f5a",
       "value": {
        "date": 8,
        "month": 6,
        "year": 2021
       }
      }
     },
     "08eafc2afa1b4f668f91ce6019da95c7": {
      "model_module": "@jupyter-widgets/controls",
      "model_module_version": "1.5.0",
      "model_name": "TextModel",
      "state": {
       "continuous_update": false,
       "description": "Previous / next",
       "disabled": true,
       "layout": "IPY_MODEL_079a70a4b78149278b3fb205e85a211c",
       "style": "IPY_MODEL_1a258735fcbf411d8ad256330e4862e0",
       "value": "30/06/2021-03/01/2022"
      }
     },
     "091c5d3da48e4446a1b22b49db425f2c": {
      "model_module": "@jupyter-widgets/controls",
      "model_module_version": "1.5.0",
      "model_name": "FloatTextModel",
      "state": {
       "description": "Clean price (%)",
       "layout": "IPY_MODEL_064f13f937244baa9143ed68d97b1561",
       "step": null,
       "style": "IPY_MODEL_747b1e9ff5dd43f5b9a41f6968652879",
       "value": 100.33984375
      }
     },
     "09f698576c884546a1464fe36806a9f1": {
      "model_module": "@jupyter-widgets/base",
      "model_module_version": "1.2.0",
      "model_name": "LayoutModel",
      "state": {}
     },
     "0a3d775814d0452a83bf73f2dde8f344": {
      "model_module": "@jupyter-widgets/base",
      "model_module_version": "1.2.0",
      "model_name": "LayoutModel",
      "state": {
       "padding": "0 0 0 0",
       "width": "26px"
      }
     },
     "0ce9c20144d9455689aff7d1f5f9fe2c": {
      "model_module": "@jupyter-widgets/controls",
      "model_module_version": "1.5.0",
      "model_name": "TextModel",
      "state": {
       "continuous_update": false,
       "description": "Rate (%)",
       "disabled": true,
       "layout": "IPY_MODEL_9d855aa840d745db9bd8d60714582c18",
       "style": "IPY_MODEL_2f6b5917590d4b69ac0f1924f86fa88e",
       "value": "0.875"
      }
     },
     "0d005a9e670744bf88f3ec529af52796": {
      "model_module": "@jupyter-widgets/controls",
      "model_module_version": "1.5.0",
      "model_name": "DropdownModel",
      "state": {
       "_options_labels": [
        "Maturity",
        "Put",
        "Call",
        "Worst",
        "Best"
       ],
       "index": 0,
       "layout": "IPY_MODEL_398a60d0e79b4f8da970febce17b0d05",
       "style": "IPY_MODEL_028012b922a3441eaea450441109c6e1"
      }
     },
     "0d6ebf95f6d14c5ca2938635a5a19578": {
      "model_module": "@jupyter-widgets/base",
      "model_module_version": "1.2.0",
      "model_name": "LayoutModel",
      "state": {
       "width": "50px"
      }
     },
     "0efbaed5062148bcadd4e0dd225714eb": {
      "model_module": "@jupyter-widgets/controls",
      "model_module_version": "1.5.0",
      "model_name": "DescriptionStyleModel",
      "state": {
       "description_width": "120px"
      }
     },
     "0f3e9362fc384471a797c484e6650ea2": {
      "model_module": "@jupyter-widgets/controls",
      "model_module_version": "1.5.0",
      "model_name": "LabelModel",
      "state": {
       "layout": "IPY_MODEL_81fd695b1ed54b6dbf25914b1ee668ac",
       "style": "IPY_MODEL_ee1fd9cc805b419887a1cdc50fc4a777",
       "value": "UST    0.875 06/30/26"
      }
     },
     "124290f80a8547a8a7e30a83328f4eba": {
      "model_module": "@jupyter-widgets/controls",
      "model_module_version": "1.5.0",
      "model_name": "DescriptionStyleModel",
      "state": {
       "description_width": "120px"
      }
     },
     "1475f983fc054c05bd88aa8c1261a70d": {
      "model_module": "@jupyter-widgets/controls",
      "model_module_version": "1.5.0",
      "model_name": "DescriptionStyleModel",
      "state": {
       "description_width": "120px"
      }
     },
     "14d2007ed3054f7f8f47a3aff6e9997a": {
      "model_module": "@jupyter-widgets/base",
      "model_module_version": "1.2.0",
      "model_name": "LayoutModel",
      "state": {
       "margin": "0 0 0 0",
       "width": "420px"
      }
     },
     "1525937f6a6348d9afac153a8162e4be": {
      "model_module": "@jupyter-widgets/base",
      "model_module_version": "1.2.0",
      "model_name": "LayoutModel",
      "state": {
       "margin": "0 0 0 0",
       "width": "450px"
      }
     },
     "15d4f7f539ca499cb571afadd5041393": {
      "model_module": "@jupyter-widgets/controls",
      "model_module_version": "1.5.0",
      "model_name": "DropdownModel",
      "state": {
       "_options_labels": [
        "Maturity",
        "Put",
        "Call",
        "Worst",
        "Best"
       ],
       "index": 0,
       "layout": "IPY_MODEL_7521345d09414a94b0f11b851a97f405",
       "style": "IPY_MODEL_2d5a63cdeb0443969ff2a0e65c3a8a14"
      }
     },
     "1641f337dd0e4a9e9c17a0dfb1165157": {
      "model_module": "@jupyter-widgets/base",
      "model_module_version": "1.2.0",
      "model_name": "LayoutModel",
      "state": {}
     },
     "16b3ad8e42d94dd697da0cbbb3777ab6": {
      "model_module": "@jupyter-widgets/controls",
      "model_module_version": "1.5.0",
      "model_name": "DescriptionStyleModel",
      "state": {
       "description_width": "120px"
      }
     },
     "16c3ecc7b61f4056b977834f6087c01d": {
      "model_module": "@jupyter-widgets/base",
      "model_module_version": "1.2.0",
      "model_name": "LayoutModel",
      "state": {}
     },
     "16d2115849f14b0bb962d5bbcc5d8be9": {
      "model_module": "@jupyter-widgets/base",
      "model_module_version": "1.2.0",
      "model_name": "LayoutModel",
      "state": {}
     },
     "1701876d10764ef3a4fae399ec1f9c7f": {
      "model_module": "@jupyter-widgets/controls",
      "model_module_version": "1.5.0",
      "model_name": "ButtonStyleModel",
      "state": {}
     },
     "1922a27aac9c42bcb55eabe67e979a77": {
      "model_module": "@jupyter-widgets/controls",
      "model_module_version": "1.5.0",
      "model_name": "IntTextModel",
      "state": {
       "layout": "IPY_MODEL_0d6ebf95f6d14c5ca2938635a5a19578",
       "step": 1,
       "style": "IPY_MODEL_628cff9fd1d44f60a95aa3fdac70a2ea",
       "value": 1
      }
     },
     "19ceb5481eb248f2823e95243ef4fd1d": {
      "model_module": "@jupyter-widgets/base",
      "model_module_version": "1.2.0",
      "model_name": "LayoutModel",
      "state": {
       "margin": "0 0 0 0",
       "width": "320px"
      }
     },
     "1a258735fcbf411d8ad256330e4862e0": {
      "model_module": "@jupyter-widgets/controls",
      "model_module_version": "1.5.0",
      "model_name": "DescriptionStyleModel",
      "state": {
       "description_width": "120px"
      }
     },
     "1a4ab957494f4aa698d47448e712029d": {
      "model_module": "@jupyter-widgets/base",
      "model_module_version": "1.2.0",
      "model_name": "LayoutModel",
      "state": {}
     },
     "1b38222dd2b14e32aa01bc56e9925503": {
      "model_module": "@jupyter-widgets/controls",
      "model_module_version": "1.5.0",
      "model_name": "ButtonModel",
      "state": {
       "icon": "undo",
       "layout": "IPY_MODEL_eb26143cfa7243bd8d23f7ef786d3f7b",
       "style": "IPY_MODEL_9bd9f84806e44e44b1bd96381d675e04",
       "tooltip": "Reset changes"
      }
     },
     "1c48a483c9a6481e9ce98d8c630ae026": {
      "model_module": "@jupyter-widgets/controls",
      "model_module_version": "1.5.0",
      "model_name": "DescriptionStyleModel",
      "state": {
       "description_width": "120px"
      }
     },
     "1cfbd12c57354144ab494f7ebd01e084": {
      "model_module": "@jupyter-widgets/controls",
      "model_module_version": "1.5.0",
      "model_name": "TextModel",
      "state": {
       "continuous_update": false,
       "description": "Frequency",
       "disabled": true,
       "layout": "IPY_MODEL_89010d5a7cf545bfb0ca867d8c441606",
       "style": "IPY_MODEL_e681e987741545149c1919c6bd595645",
       "value": "SemiAnnual"
      }
     },
     "1d4cf5cd5afa4de5b580f2efddb8b9f2": {
      "model_module": "@jupyter-widgets/base",
      "model_module_version": "1.2.0",
      "model_name": "LayoutModel",
      "state": {}
     },
     "1de27a2a905041ee940442763340f3b7": {
      "model_module": "@jupyter-widgets/controls",
      "model_module_version": "1.5.0",
      "model_name": "HBoxModel",
      "state": {
       "children": [
        "IPY_MODEL_ba2d987b26914348baf0d24cf2746ab5",
        "IPY_MODEL_2255577de31244f8bd97d1440afb01e9"
       ],
       "layout": "IPY_MODEL_336f8f97843d484a88a281cef4e1aff7"
      }
     },
     "1e03bd6d6d894be18b90f60847567803": {
      "model_module": "@jupyter-widgets/base",
      "model_module_version": "1.2.0",
      "model_name": "LayoutModel",
      "state": {}
     },
     "1e540755686b4884a41f444943a9a66b": {
      "model_module": "@jupyter-widgets/base",
      "model_module_version": "1.2.0",
      "model_name": "LayoutModel",
      "state": {}
     },
     "1f6bba2ca71a46d48e8a3f70f32b1a82": {
      "model_module": "@jupyter-widgets/base",
      "model_module_version": "1.2.0",
      "model_name": "LayoutModel",
      "state": {}
     },
     "20b1a909a9754f559891aad02a8991bb": {
      "model_module": "@jupyter-widgets/controls",
      "model_module_version": "1.5.0",
      "model_name": "DescriptionStyleModel",
      "state": {
       "description_width": "120px"
      }
     },
     "215e0662e53a46359053c1d126cd48c8": {
      "model_module": "@jupyter-widgets/base",
      "model_module_version": "1.2.0",
      "model_name": "LayoutModel",
      "state": {
       "width": "60px"
      }
     },
     "217f312991254de2b27c8a6c92bc1b67": {
      "model_module": "@jupyter-widgets/controls",
      "model_module_version": "1.5.0",
      "model_name": "DescriptionStyleModel",
      "state": {
       "description_width": "120px"
      }
     },
     "21a3049ed6eb46ac8ff63cf6dbd6fa7c": {
      "model_module": "@jupyter-widgets/controls",
      "model_module_version": "1.5.0",
      "model_name": "VBoxModel",
      "state": {
       "children": [
        "IPY_MODEL_270510bfed894ab188d5dfd8c39a2a59",
        "IPY_MODEL_436a367423ec49d3b1c4b3d18dcd9eaf"
       ],
       "layout": "IPY_MODEL_ddd72e4341c14b4786f96f6e5b3b8b98"
      }
     },
     "2255577de31244f8bd97d1440afb01e9": {
      "model_module": "@jupyter-widgets/controls",
      "model_module_version": "1.5.0",
      "model_name": "DropdownModel",
      "state": {
       "_options_labels": [
        "Bid",
        "Ask",
        "Mid",
        "Custom"
       ],
       "index": 2,
       "layout": "IPY_MODEL_215e0662e53a46359053c1d126cd48c8",
       "style": "IPY_MODEL_0073a227627e4c25bc61c29c7952b638"
      }
     },
     "2262ed6292134b64b7aa9e776794b0ac": {
      "model_module": "@jupyter-widgets/controls",
      "model_module_version": "1.5.0",
      "model_name": "DescriptionStyleModel",
      "state": {
       "description_width": "120px"
      }
     },
     "23909b0d8a2d4b51b5a0a9490b8697c6": {
      "model_module": "@jupyter-widgets/controls",
      "model_module_version": "1.5.0",
      "model_name": "VBoxModel",
      "state": {
       "children": [
        "IPY_MODEL_66d0d912eaa448889bde28b6a49ae87e",
        "IPY_MODEL_ac7e3aedf94e43ccad6cf561cc449c3c",
        "IPY_MODEL_638e530552c148aaa283fa01041dbd47",
        "IPY_MODEL_d0981236c41040af86d8c81b76ecb052"
       ],
       "layout": "IPY_MODEL_1e03bd6d6d894be18b90f60847567803"
      }
     },
     "23ed4357a0074e6787e1bfb73e5455da": {
      "model_module": "@jupyter-widgets/base",
      "model_module_version": "1.2.0",
      "model_name": "LayoutModel",
      "state": {}
     },
     "245e14d20a6a4576b8ae0590023a1b21": {
      "model_module": "@jupyter-widgets/controls",
      "model_module_version": "1.5.0",
      "model_name": "DescriptionStyleModel",
      "state": {
       "description_width": ""
      }
     },
     "24ece22d067c4441a44370eb825a54bc": {
      "model_module": "@jupyter-widgets/controls",
      "model_module_version": "1.5.0",
      "model_name": "ButtonStyleModel",
      "state": {}
     },
     "24f42a5407ba41e687ff9012e3e3bbce": {
      "model_module": "@jupyter-widgets/controls",
      "model_module_version": "1.5.0",
      "model_name": "DescriptionStyleModel",
      "state": {
       "description_width": ""
      }
     },
     "2580a1cd79ba40b4b014b77fa68d1a47": {
      "model_module": "@jupyter-widgets/controls",
      "model_module_version": "1.5.0",
      "model_name": "HBoxModel",
      "state": {
       "children": [
        "IPY_MODEL_0895db3d3daf4de3af9a3efbe79a3908",
        "IPY_MODEL_c7a377d313e84197a979ac516d62e436",
        "IPY_MODEL_a954e7a62c2d4532999a8296846b1a0b"
       ],
       "layout": "IPY_MODEL_6bb8a29526f24cb9a6dd9b3ad040fd95"
      }
     },
     "25a38d30cd4d4019a46b9308e7bd1a2b": {
      "model_module": "@jupyter-widgets/controls",
      "model_module_version": "1.5.0",
      "model_name": "TextModel",
      "state": {
       "continuous_update": false,
       "description": "RIC",
       "layout": "IPY_MODEL_19ceb5481eb248f2823e95243ef4fd1d",
       "style": "IPY_MODEL_46ccbc831d1f46ffb51aa8e2c8454e05",
       "value": "US5YT=RR"
      }
     },
     "25bbf31ac6e7481e94b9aaf8d0248920": {
      "model_module": "@jupyter-widgets/controls",
      "model_module_version": "1.5.0",
      "model_name": "DescriptionStyleModel",
      "state": {
       "description_width": ""
      }
     },
     "260c31dc6bf5470c8c03c2c4fb9e7200": {
      "model_module": "@jupyter-widgets/base",
      "model_module_version": "1.2.0",
      "model_name": "LayoutModel",
      "state": {}
     },
     "2620548c20f14a4aa11fd10767a732c1": {
      "model_module": "@jupyter-widgets/controls",
      "model_module_version": "1.5.0",
      "model_name": "HBoxModel",
      "state": {
       "children": [
        "IPY_MODEL_b09be72775964c12a3666fbf1d838ba4",
        "IPY_MODEL_6ca2ff8a5144409493287e95b1a52f92",
        "IPY_MODEL_d01e9712ef894207a791be5862258068"
       ],
       "layout": "IPY_MODEL_2fed802c65e647769b2de9d827533517"
      }
     },
     "262cb9d46b2a423e97dffce26214fca2": {
      "model_module": "@jupyter-widgets/base",
      "model_module_version": "1.2.0",
      "model_name": "LayoutModel",
      "state": {}
     },
     "26363141f3134fb6bd5688a81aa782ea": {
      "model_module": "@jupyter-widgets/controls",
      "model_module_version": "1.5.0",
      "model_name": "HBoxModel",
      "state": {
       "children": [
        "IPY_MODEL_d4fe7123197145f995f43f5efb538216",
        "IPY_MODEL_639f5637132c4bce9bd384d645b7dd56"
       ],
       "layout": "IPY_MODEL_94510a33176d45bca03cdb7ed52a6ec8"
      }
     },
     "270510bfed894ab188d5dfd8c39a2a59": {
      "model_module": "@jupyter-widgets/controls",
      "model_module_version": "1.5.0",
      "model_name": "TextModel",
      "state": {
       "continuous_update": false,
       "description": "Redemption date",
       "disabled": true,
       "layout": "IPY_MODEL_7694f1e42e384577813e46b3276c0215",
       "style": "IPY_MODEL_4c5d9832c07a4df1875cc657c4cebac5",
       "value": "30/06/2026"
      }
     },
     "28c0472caef748d0a3496485e853a86f": {
      "model_module": "@jupyter-widgets/controls",
      "model_module_version": "1.5.0",
      "model_name": "DescriptionStyleModel",
      "state": {
       "description_width": "120px"
      }
     },
     "290af14958ca495c8949c189725a6fab": {
      "model_module": "@jupyter-widgets/base",
      "model_module_version": "1.2.0",
      "model_name": "LayoutModel",
      "state": {}
     },
     "29ee0434347b45bd9bfab5a1b2e2771a": {
      "model_module": "@jupyter-widgets/controls",
      "model_module_version": "1.5.0",
      "model_name": "DescriptionStyleModel",
      "state": {
       "description_width": "120px"
      }
     },
     "2a149708cc75458882d87f379f55256d": {
      "model_module": "@jupyter-widgets/base",
      "model_module_version": "1.2.0",
      "model_name": "LayoutModel",
      "state": {}
     },
     "2c0a5ccad765452bb83291af5d3c2c5d": {
      "model_module": "@jupyter-widgets/base",
      "model_module_version": "1.2.0",
      "model_name": "LayoutModel",
      "state": {
       "padding": "0 0 0 0",
       "width": "26px"
      }
     },
     "2cce84d5008f44ab8cf57dbf8a34c1f7": {
      "model_module": "@jupyter-widgets/controls",
      "model_module_version": "1.5.0",
      "model_name": "DescriptionStyleModel",
      "state": {
       "description_width": "25px"
      }
     },
     "2d5a63cdeb0443969ff2a0e65c3a8a14": {
      "model_module": "@jupyter-widgets/controls",
      "model_module_version": "1.5.0",
      "model_name": "DescriptionStyleModel",
      "state": {
       "description_width": ""
      }
     },
     "2f6b5917590d4b69ac0f1924f86fa88e": {
      "model_module": "@jupyter-widgets/controls",
      "model_module_version": "1.5.0",
      "model_name": "DescriptionStyleModel",
      "state": {
       "description_width": "120px"
      }
     },
     "2fd8eb8a2d6448349bce87ca98c661c0": {
      "model_module": "@jupyter-widgets/base",
      "model_module_version": "1.2.0",
      "model_name": "LayoutModel",
      "state": {}
     },
     "2fed802c65e647769b2de9d827533517": {
      "model_module": "@jupyter-widgets/base",
      "model_module_version": "1.2.0",
      "model_name": "LayoutModel",
      "state": {}
     },
     "307709e1556f4222a4c9fd4c4632d738": {
      "model_module": "@jupyter-widgets/base",
      "model_module_version": "1.2.0",
      "model_name": "LayoutModel",
      "state": {}
     },
     "30ecb822b8a247a39dae0d4f2c8fc82e": {
      "model_module": "@jupyter-widgets/controls",
      "model_module_version": "1.5.0",
      "model_name": "DescriptionStyleModel",
      "state": {
       "description_width": "120px"
      }
     },
     "3243a30c6ea64314b553a931b0e4d512": {
      "model_module": "@jupyter-widgets/controls",
      "model_module_version": "1.5.0",
      "model_name": "AccordionModel",
      "state": {
       "_titles": {
        "0": "COUPON"
       },
       "children": [
        "IPY_MODEL_4769661562ee4162bb956667e961425b"
       ],
       "layout": "IPY_MODEL_5566d8478c494e0d84628b1dd1634075"
      }
     },
     "330ce809e9134c94aed6d49600076986": {
      "model_module": "@jupyter-widgets/base",
      "model_module_version": "1.2.0",
      "model_name": "LayoutModel",
      "state": {}
     },
     "336f8f97843d484a88a281cef4e1aff7": {
      "model_module": "@jupyter-widgets/base",
      "model_module_version": "1.2.0",
      "model_name": "LayoutModel",
      "state": {}
     },
     "36faa6838a624a00b155b4370bb37bcf": {
      "model_module": "@jupyter-widgets/controls",
      "model_module_version": "1.5.0",
      "model_name": "HBoxModel",
      "state": {
       "children": [
        "IPY_MODEL_25a38d30cd4d4019a46b9308e7bd1a2b",
        "IPY_MODEL_1b38222dd2b14e32aa01bc56e9925503"
       ],
       "layout": "IPY_MODEL_61a40507a55147669d0724592954bb8e"
      }
     },
     "380211a929504066b252006e8b8be79f": {
      "model_module": "@jupyter-widgets/controls",
      "model_module_version": "1.5.0",
      "model_name": "LabelModel",
      "state": {
       "layout": "IPY_MODEL_86bc2af2548a4a4f80b94fe74c01c798",
       "style": "IPY_MODEL_fbb247fdbd7e43918e8b4798ee424cf3",
       "value": "D"
      }
     },
     "3830e44c816f460bae6d84e8105d0539": {
      "model_module": "@jupyter-widgets/base",
      "model_module_version": "1.2.0",
      "model_name": "LayoutModel",
      "state": {}
     },
     "38c2f6362f1648408a757ced1c1fba18": {
      "model_module": "@jupyter-widgets/controls",
      "model_module_version": "1.5.0",
      "model_name": "DatePickerModel",
      "state": {
       "description": "Trade date",
       "disabled": false,
       "layout": "IPY_MODEL_9bfb631317524605856b91dd227285d1",
       "style": "IPY_MODEL_29ee0434347b45bd9bfab5a1b2e2771a",
       "value": {
        "date": 7,
        "month": 6,
        "year": 2021
       }
      }
     },
     "3950a5346eb24bb78f47b89f3719baff": {
      "model_module": "@jupyter-widgets/base",
      "model_module_version": "1.2.0",
      "model_name": "LayoutModel",
      "state": {}
     },
     "397a437c593d44449643255958c4ab20": {
      "model_module": "@jupyter-widgets/base",
      "model_module_version": "1.2.0",
      "model_name": "LayoutModel",
      "state": {
       "padding": "0 0 0 0",
       "width": "26px"
      }
     },
     "3986beae5c594ac2a8f81dd337c4db9c": {
      "model_module": "@jupyter-widgets/controls",
      "model_module_version": "1.5.0",
      "model_name": "DatePickerModel",
      "state": {
       "description": "Trade date",
       "disabled": false,
       "layout": "IPY_MODEL_86a3bfe87c6a4a41a161f20cdd8d4a78",
       "style": "IPY_MODEL_79a30fbffff04071baad069f9bb2b6d3",
       "value": {
        "date": 7,
        "month": 6,
        "year": 2021
       }
      }
     },
     "398a60d0e79b4f8da970febce17b0d05": {
      "model_module": "@jupyter-widgets/base",
      "model_module_version": "1.2.0",
      "model_name": "LayoutModel",
      "state": {
       "width": "80px"
      }
     },
     "39d6f678a6f6486db7a9fc4f499b3e65": {
      "model_module": "@jupyter-widgets/base",
      "model_module_version": "1.2.0",
      "model_name": "LayoutModel",
      "state": {}
     },
     "3ae1854965274a79ab0f0c7780d21b04": {
      "model_module": "@jupyter-widgets/base",
      "model_module_version": "1.2.0",
      "model_name": "LayoutModel",
      "state": {}
     },
     "3b94e4a602b949a28475cdcaa2673929": {
      "model_module": "@jupyter-widgets/base",
      "model_module_version": "1.2.0",
      "model_name": "LayoutModel",
      "state": {}
     },
     "3ca92d89c1af47e494b9f68c58220988": {
      "model_module": "@jupyter-widgets/controls",
      "model_module_version": "1.5.0",
      "model_name": "TextModel",
      "state": {
       "continuous_update": false,
       "description": "Next ex-dividend",
       "disabled": true,
       "layout": "IPY_MODEL_9750943ac9da43c585f5e2c5e0247125",
       "style": "IPY_MODEL_20b1a909a9754f559891aad02a8991bb",
       "value": "31/12/2021"
      }
     },
     "3d54da462b3a4f36ad4737e1af628849": {
      "model_module": "@jupyter-widgets/controls",
      "model_module_version": "1.5.0",
      "model_name": "TextModel",
      "state": {
       "continuous_update": false,
       "description": "Previous / next",
       "disabled": true,
       "layout": "IPY_MODEL_4642d25412e84afe95795d241c5f4439",
       "style": "IPY_MODEL_b18b49ad65ed44d681bee601ee9fbcc3",
       "value": "30/06/2021-03/01/2022"
      }
     },
     "3d9341cf324849db80b5c667fe0e01be": {
      "model_module": "@jupyter-widgets/base",
      "model_module_version": "1.2.0",
      "model_name": "LayoutModel",
      "state": {}
     },
     "3db630d3aee64cd5aebf0d2f4c7ea46b": {
      "model_module": "@jupyter-widgets/base",
      "model_module_version": "1.2.0",
      "model_name": "LayoutModel",
      "state": {}
     },
     "3e5fe8371b0b4340b6e3c8b5f2d13901": {
      "model_module": "@jupyter-widgets/controls",
      "model_module_version": "1.5.0",
      "model_name": "DescriptionStyleModel",
      "state": {
       "description_width": "120px"
      }
     },
     "3f2a59e87c404f80b40cdaaa08f6d6ef": {
      "model_module": "@jupyter-widgets/base",
      "model_module_version": "1.2.0",
      "model_name": "LayoutModel",
      "state": {}
     },
     "3fe06cb914b04db98a4b9fe98c294d79": {
      "model_module": "@jupyter-widgets/controls",
      "model_module_version": "1.5.0",
      "model_name": "DescriptionStyleModel",
      "state": {
       "description_width": "120px"
      }
     },
     "3ff77568babf4328be0dcec046fe1aaf": {
      "model_module": "@jupyter-widgets/base",
      "model_module_version": "1.2.0",
      "model_name": "LayoutModel",
      "state": {}
     },
     "40568d687c5d40e3ac4de835c1cbef7a": {
      "model_module": "@jupyter-widgets/controls",
      "model_module_version": "1.5.0",
      "model_name": "DescriptionStyleModel",
      "state": {
       "description_width": ""
      }
     },
     "408c4a5e6a0c4d81aeff537f7ffc478a": {
      "model_module": "@jupyter-widgets/base",
      "model_module_version": "1.2.0",
      "model_name": "LayoutModel",
      "state": {
       "width": "50px"
      }
     },
     "40e006a8e06040f09d075b294a9466ca": {
      "model_module": "@jupyter-widgets/controls",
      "model_module_version": "1.5.0",
      "model_name": "VBoxModel",
      "state": {
       "children": [
        "IPY_MODEL_36faa6838a624a00b155b4370bb37bcf",
        "IPY_MODEL_ff54bcd6e1d649bf88133d8bde666a37"
       ],
       "layout": "IPY_MODEL_7384d56a68e943e9955e9cfd514e1c5b"
      }
     },
     "41e6eb0422464aac8ee5491ddac3502e": {
      "model_module": "@jupyter-widgets/controls",
      "model_module_version": "1.5.0",
      "model_name": "DescriptionStyleModel",
      "state": {
       "description_width": "120px"
      }
     },
     "436a367423ec49d3b1c4b3d18dcd9eaf": {
      "model_module": "@jupyter-widgets/controls",
      "model_module_version": "1.5.0",
      "model_name": "TextModel",
      "state": {
       "continuous_update": false,
       "description": "Redemption price",
       "disabled": true,
       "layout": "IPY_MODEL_260c31dc6bf5470c8c03c2c4fb9e7200",
       "style": "IPY_MODEL_70eedf3eb0b94691baee83d6d587efab",
       "value": "100"
      }
     },
     "440698145cd443e3a10e62cc3a0067ba": {
      "model_module": "@jupyter-widgets/base",
      "model_module_version": "1.2.0",
      "model_name": "LayoutModel",
      "state": {
       "margin": "0 0 0 0",
       "width": "320px"
      }
     },
     "4416542054944af8b45379e4ed6b0433": {
      "model_module": "@jupyter-widgets/controls",
      "model_module_version": "1.5.0",
      "model_name": "TextModel",
      "state": {
       "continuous_update": false,
       "description": "Rate (%)",
       "disabled": true,
       "layout": "IPY_MODEL_44b8c3511eea425bbce843b73d9fcb54",
       "style": "IPY_MODEL_e3892d2bb4fd4c86a8cbd352e303a87a",
       "value": "0.875"
      }
     },
     "44b8c3511eea425bbce843b73d9fcb54": {
      "model_module": "@jupyter-widgets/base",
      "model_module_version": "1.2.0",
      "model_name": "LayoutModel",
      "state": {}
     },
     "44fb36cb50f541cea4e19d3adc9731c2": {
      "model_module": "@jupyter-widgets/base",
      "model_module_version": "1.2.0",
      "model_name": "LayoutModel",
      "state": {}
     },
     "450b8d6a832b4a29b656483d358c221a": {
      "model_module": "@jupyter-widgets/controls",
      "model_module_version": "1.5.0",
      "model_name": "TextModel",
      "state": {
       "continuous_update": false,
       "description": "Rate (%)",
       "disabled": true,
       "layout": "IPY_MODEL_ab3397387b1846428bf02ebc87b5ce64",
       "style": "IPY_MODEL_6aa55bbe77c1464a9a261e208d145fdb",
       "value": "0.875"
      }
     },
     "4642d25412e84afe95795d241c5f4439": {
      "model_module": "@jupyter-widgets/base",
      "model_module_version": "1.2.0",
      "model_name": "LayoutModel",
      "state": {}
     },
     "466d0baec1bd41d29c05722d8f6b417c": {
      "model_module": "@jupyter-widgets/base",
      "model_module_version": "1.2.0",
      "model_name": "LayoutModel",
      "state": {
       "width": "80px"
      }
     },
     "46a3fda3a89f47ffab002bece0719b68": {
      "model_module": "@jupyter-widgets/base",
      "model_module_version": "1.2.0",
      "model_name": "LayoutModel",
      "state": {
       "margin": "0 0 0 0",
       "width": "450px"
      }
     },
     "46ccbc831d1f46ffb51aa8e2c8454e05": {
      "model_module": "@jupyter-widgets/controls",
      "model_module_version": "1.5.0",
      "model_name": "DescriptionStyleModel",
      "state": {
       "description_width": "25px"
      }
     },
     "4769661562ee4162bb956667e961425b": {
      "model_module": "@jupyter-widgets/controls",
      "model_module_version": "1.5.0",
      "model_name": "VBoxModel",
      "state": {
       "children": [
        "IPY_MODEL_3d54da462b3a4f36ad4737e1af628849",
        "IPY_MODEL_b042be468a6b40548e4b24ca52c2c03a",
        "IPY_MODEL_9c71c6e359a44ed0bc0b6ec58dc967ad",
        "IPY_MODEL_4416542054944af8b45379e4ed6b0433"
       ],
       "layout": "IPY_MODEL_496e23876de34224a0cb1878e422c2c4"
      }
     },
     "4777760031904fada231d67660afbf85": {
      "model_module": "@jupyter-widgets/base",
      "model_module_version": "1.2.0",
      "model_name": "LayoutModel",
      "state": {}
     },
     "48789d6e1dd64d44b7b96dd95c00fe6b": {
      "model_module": "@jupyter-widgets/base",
      "model_module_version": "1.2.0",
      "model_name": "LayoutModel",
      "state": {}
     },
     "487d8ead33d4403b9da2056605cb0634": {
      "model_module": "@jupyter-widgets/controls",
      "model_module_version": "1.5.0",
      "model_name": "TextModel",
      "state": {
       "continuous_update": false,
       "description": "Next ex-dividend",
       "disabled": true,
       "layout": "IPY_MODEL_4777760031904fada231d67660afbf85",
       "style": "IPY_MODEL_217f312991254de2b27c8a6c92bc1b67",
       "value": "31/12/2021"
      }
     },
     "49612707a2ab4da793fc6aabff6aecc6": {
      "model_module": "@jupyter-widgets/controls",
      "model_module_version": "1.5.0",
      "model_name": "HBoxModel",
      "state": {
       "children": [
        "IPY_MODEL_5bca111e38ff42d3a997bee8495cfda5",
        "IPY_MODEL_52150eff0ef443928937616b494f3887",
        "IPY_MODEL_8f8fce73cce44b3fb9d23c7ddd7fe9a3"
       ],
       "layout": "IPY_MODEL_6cc009328eb04fb09f55571463a387f5"
      }
     },
     "496e23876de34224a0cb1878e422c2c4": {
      "model_module": "@jupyter-widgets/base",
      "model_module_version": "1.2.0",
      "model_name": "LayoutModel",
      "state": {}
     },
     "4c5d9832c07a4df1875cc657c4cebac5": {
      "model_module": "@jupyter-widgets/controls",
      "model_module_version": "1.5.0",
      "model_name": "DescriptionStyleModel",
      "state": {
       "description_width": "120px"
      }
     },
     "4e3d19b30cac499bb8e9bb3d55bf5048": {
      "model_module": "@jupyter-widgets/base",
      "model_module_version": "1.2.0",
      "model_name": "LayoutModel",
      "state": {}
     },
     "4e9c8db147a1492ebaccfffa6b7e3b39": {
      "model_module": "@jupyter-widgets/base",
      "model_module_version": "1.2.0",
      "model_name": "LayoutModel",
      "state": {
       "width": "60px"
      }
     },
     "4f855f8854c34085a7e8418c24d23d30": {
      "model_module": "@jupyter-widgets/controls",
      "model_module_version": "1.5.0",
      "model_name": "VBoxModel",
      "state": {
       "children": [
        "IPY_MODEL_1de27a2a905041ee940442763340f3b7",
        "IPY_MODEL_26363141f3134fb6bd5688a81aa782ea",
        "IPY_MODEL_04d0d1c954e64dfb803917289538cb60",
        "IPY_MODEL_a7d63321dc8746c8a387209c4dd02bd9",
        "IPY_MODEL_b4f69714e6594fe39fa578fac71e8c7c"
       ],
       "layout": "IPY_MODEL_6f86a90b860f4f0aad85ff62018ee30e"
      }
     },
     "4fdb5de0580c4ff4b6a42df5136a25f5": {
      "model_module": "@jupyter-widgets/base",
      "model_module_version": "1.2.0",
      "model_name": "LayoutModel",
      "state": {}
     },
     "5008cfa8043d4068b7686a7bdfde363f": {
      "model_module": "@jupyter-widgets/controls",
      "model_module_version": "1.5.0",
      "model_name": "TextModel",
      "state": {
       "continuous_update": false,
       "description": "Previous / next",
       "disabled": true,
       "layout": "IPY_MODEL_f714a43c198443caaa44093ddf96aca6",
       "style": "IPY_MODEL_76d51b8a00f04604bf2d58fd76224e3c",
       "value": "30/06/2021-03/01/2022"
      }
     },
     "52150eff0ef443928937616b494f3887": {
      "model_module": "@jupyter-widgets/controls",
      "model_module_version": "1.5.0",
      "model_name": "IntTextModel",
      "state": {
       "layout": "IPY_MODEL_c497ecec87ae401f8817151a9a4ce481",
       "step": 1,
       "style": "IPY_MODEL_bb45fc476c2c430186c8a247d0952c4c",
       "value": 1
      }
     },
     "53750155be2d485dac3e54d22e535c2b": {
      "model_module": "@jupyter-widgets/controls",
      "model_module_version": "1.5.0",
      "model_name": "DescriptionStyleModel",
      "state": {
       "description_width": "25px"
      }
     },
     "553ec0e0512145a8a0a87c484a7f800f": {
      "model_module": "@jupyter-widgets/controls",
      "model_module_version": "1.5.0",
      "model_name": "HBoxModel",
      "state": {
       "children": [
        "IPY_MODEL_7b5a482f802c4f54bcb0576340398ddf",
        "IPY_MODEL_0d005a9e670744bf88f3ec529af52796"
       ],
       "layout": "IPY_MODEL_81d7988c34ff44609d64169403178317"
      }
     },
     "5560e3de0c0e452aae91c5037f7a6d43": {
      "model_module": "@jupyter-widgets/controls",
      "model_module_version": "1.5.0",
      "model_name": "FloatTextModel",
      "state": {
       "description": "Dirty price (%)",
       "layout": "IPY_MODEL_9cad8e75937b4968baf87017ec70b691",
       "step": null,
       "style": "IPY_MODEL_c91a55320d3b49d28f4fe38ef95743da",
       "value": 100.35886548913
      }
     },
     "5566d8478c494e0d84628b1dd1634075": {
      "model_module": "@jupyter-widgets/base",
      "model_module_version": "1.2.0",
      "model_name": "LayoutModel",
      "state": {
       "margin": "0 0 0 0",
       "width": "420px"
      }
     },
     "5636adc2cb14407a955c40625abe3582": {
      "model_module": "@jupyter-widgets/controls",
      "model_module_version": "1.5.0",
      "model_name": "DescriptionStyleModel",
      "state": {
       "description_width": "120px"
      }
     },
     "56c89f85b03e4d40bc976f4b1a3abca9": {
      "model_module": "@jupyter-widgets/controls",
      "model_module_version": "1.5.0",
      "model_name": "VBoxModel",
      "state": {
       "children": [
        "IPY_MODEL_731817d600134d6b9fdeec99e59cf0ac",
        "IPY_MODEL_1cfbd12c57354144ab494f7ebd01e084",
        "IPY_MODEL_7b73c4af92d6499c81ae887a1fc9c0f7",
        "IPY_MODEL_0ce9c20144d9455689aff7d1f5f9fe2c"
       ],
       "layout": "IPY_MODEL_ca56aa90724a40b3a4c744fdec57ce64"
      }
     },
     "5751f418a45743bca63fab380eba779c": {
      "model_module": "@jupyter-widgets/controls",
      "model_module_version": "1.5.0",
      "model_name": "DescriptionStyleModel",
      "state": {
       "description_width": "120px"
      }
     },
     "581cb894c0504675a22115c34366b2ab": {
      "model_module": "@jupyter-widgets/controls",
      "model_module_version": "1.5.0",
      "model_name": "DescriptionStyleModel",
      "state": {
       "description_width": "120px"
      }
     },
     "5bca111e38ff42d3a997bee8495cfda5": {
      "model_module": "@jupyter-widgets/controls",
      "model_module_version": "1.5.0",
      "model_name": "DatePickerModel",
      "state": {
       "description": "Settlement date",
       "disabled": false,
       "layout": "IPY_MODEL_64a477a7ae24486ab32e5a19d529c7ad",
       "style": "IPY_MODEL_053cd1b8f37b4e48b9231ea9bc96e3c4",
       "value": {
        "date": 8,
        "month": 6,
        "year": 2021
       }
      }
     },
     "607875fb74c34cf79e13b3685fd38dc7": {
      "model_module": "@jupyter-widgets/base",
      "model_module_version": "1.2.0",
      "model_name": "LayoutModel",
      "state": {}
     },
     "60a4a306925d4c1ea5743e9a55fa3e9a": {
      "model_module": "@jupyter-widgets/controls",
      "model_module_version": "1.5.0",
      "model_name": "HBoxModel",
      "state": {
       "children": [
        "IPY_MODEL_f73a8a0eb27e4ba382c4250cd796d2ba",
        "IPY_MODEL_75c60f7ca8a04f0aaafcea98c8892e95"
       ],
       "layout": "IPY_MODEL_b2dc1c806dac44f3ab40ca9d12e1e22f"
      }
     },
     "6121fbfdb1584230a31e0833d24c2999": {
      "model_module": "@jupyter-widgets/controls",
      "model_module_version": "1.5.0",
      "model_name": "AccordionModel",
      "state": {
       "_titles": {
        "0": "SETTLEMENT"
       },
       "children": [
        "IPY_MODEL_612b85741ccd415295f152aad5f3f95b"
       ],
       "layout": "IPY_MODEL_c54da9f360374c44a109a5f335ab39aa"
      }
     },
     "612b85741ccd415295f152aad5f3f95b": {
      "model_module": "@jupyter-widgets/controls",
      "model_module_version": "1.5.0",
      "model_name": "VBoxModel",
      "state": {
       "children": [
        "IPY_MODEL_e26eea27bfb7404591f1817278eda561",
        "IPY_MODEL_49612707a2ab4da793fc6aabff6aecc6"
       ],
       "layout": "IPY_MODEL_262cb9d46b2a423e97dffce26214fca2"
      }
     },
     "618d8ee038ee437089e65f4828638054": {
      "model_module": "@jupyter-widgets/base",
      "model_module_version": "1.2.0",
      "model_name": "LayoutModel",
      "state": {}
     },
     "6190d384aa994208a1964da145e64c7a": {
      "model_module": "@jupyter-widgets/controls",
      "model_module_version": "1.5.0",
      "model_name": "DescriptionStyleModel",
      "state": {
       "description_width": ""
      }
     },
     "61a40507a55147669d0724592954bb8e": {
      "model_module": "@jupyter-widgets/base",
      "model_module_version": "1.2.0",
      "model_name": "LayoutModel",
      "state": {}
     },
     "623f0cd3f9a644739cb332bf872c3846": {
      "model_module": "@jupyter-widgets/base",
      "model_module_version": "1.2.0",
      "model_name": "LayoutModel",
      "state": {}
     },
     "628cff9fd1d44f60a95aa3fdac70a2ea": {
      "model_module": "@jupyter-widgets/controls",
      "model_module_version": "1.5.0",
      "model_name": "DescriptionStyleModel",
      "state": {
       "description_width": ""
      }
     },
     "638e530552c148aaa283fa01041dbd47": {
      "model_module": "@jupyter-widgets/controls",
      "model_module_version": "1.5.0",
      "model_name": "AccordionModel",
      "state": {
       "_titles": {
        "0": "PRICING"
       },
       "children": [
        "IPY_MODEL_4f855f8854c34085a7e8418c24d23d30"
       ],
       "layout": "IPY_MODEL_f78ca5b737bd44359616b7f6927068ce"
      }
     },
     "639f5637132c4bce9bd384d645b7dd56": {
      "model_module": "@jupyter-widgets/controls",
      "model_module_version": "1.5.0",
      "model_name": "DropdownModel",
      "state": {
       "_options_labels": [
        "Maturity",
        "Put",
        "Call",
        "Worst",
        "Best"
       ],
       "index": 0,
       "layout": "IPY_MODEL_4e9c8db147a1492ebaccfffa6b7e3b39",
       "style": "IPY_MODEL_40568d687c5d40e3ac4de835c1cbef7a"
      }
     },
     "63a2c2776b584216ab01e0df3cc0a9cf": {
      "model_module": "@jupyter-widgets/controls",
      "model_module_version": "1.5.0",
      "model_name": "FloatTextModel",
      "state": {
       "description": "Yield (%)",
       "layout": "IPY_MODEL_8613c582e520480a88039030f9bdb6ec",
       "step": null,
       "style": "IPY_MODEL_16b3ad8e42d94dd697da0cbbb3777ab6",
       "value": 0.805212259522469
      }
     },
     "64a477a7ae24486ab32e5a19d529c7ad": {
      "model_module": "@jupyter-widgets/base",
      "model_module_version": "1.2.0",
      "model_name": "LayoutModel",
      "state": {}
     },
     "6669b63399464a37b9dc58703382de90": {
      "model_module": "@jupyter-widgets/base",
      "model_module_version": "1.2.0",
      "model_name": "LayoutModel",
      "state": {}
     },
     "66d0d912eaa448889bde28b6a49ae87e": {
      "model_module": "@jupyter-widgets/controls",
      "model_module_version": "1.5.0",
      "model_name": "VBoxModel",
      "state": {
       "children": [
        "IPY_MODEL_d882e5bb49f746af90c60049832535ef",
        "IPY_MODEL_8c823c35ed334d82bb5ce78caeace3fe"
       ],
       "layout": "IPY_MODEL_de29b239eff44659afb85a8be3d52343"
      }
     },
     "67bd21b0aa254dbf8e9a9dc617bde585": {
      "model_module": "@jupyter-widgets/base",
      "model_module_version": "1.2.0",
      "model_name": "LayoutModel",
      "state": {}
     },
     "684fc12ce5094b84b751c10609b0dfb9": {
      "model_module": "@jupyter-widgets/base",
      "model_module_version": "1.2.0",
      "model_name": "LayoutModel",
      "state": {
       "width": "50px"
      }
     },
     "688cbb727305459e97ff34ffb3d5755c": {
      "model_module": "@jupyter-widgets/controls",
      "model_module_version": "1.5.0",
      "model_name": "VBoxModel",
      "state": {
       "children": [
        "IPY_MODEL_5008cfa8043d4068b7686a7bdfde363f",
        "IPY_MODEL_ada45860f8ac40c182913dc4c6cd28bd",
        "IPY_MODEL_487d8ead33d4403b9da2056605cb0634",
        "IPY_MODEL_450b8d6a832b4a29b656483d358c221a"
       ],
       "layout": "IPY_MODEL_6669b63399464a37b9dc58703382de90"
      }
     },
     "6aa55bbe77c1464a9a261e208d145fdb": {
      "model_module": "@jupyter-widgets/controls",
      "model_module_version": "1.5.0",
      "model_name": "DescriptionStyleModel",
      "state": {
       "description_width": "120px"
      }
     },
     "6bb8a29526f24cb9a6dd9b3ad040fd95": {
      "model_module": "@jupyter-widgets/base",
      "model_module_version": "1.2.0",
      "model_name": "LayoutModel",
      "state": {}
     },
     "6bc6af102cff450d9aa05a72ea85f546": {
      "model_module": "@jupyter-widgets/controls",
      "model_module_version": "1.5.0",
      "model_name": "DescriptionStyleModel",
      "state": {
       "description_width": "120px"
      }
     },
     "6ca2ff8a5144409493287e95b1a52f92": {
      "model_module": "@jupyter-widgets/controls",
      "model_module_version": "1.5.0",
      "model_name": "IntTextModel",
      "state": {
       "layout": "IPY_MODEL_684fc12ce5094b84b751c10609b0dfb9",
       "step": 1,
       "style": "IPY_MODEL_6190d384aa994208a1964da145e64c7a",
       "value": 1
      }
     },
     "6cc009328eb04fb09f55571463a387f5": {
      "model_module": "@jupyter-widgets/base",
      "model_module_version": "1.2.0",
      "model_name": "LayoutModel",
      "state": {}
     },
     "6f86a90b860f4f0aad85ff62018ee30e": {
      "model_module": "@jupyter-widgets/base",
      "model_module_version": "1.2.0",
      "model_name": "LayoutModel",
      "state": {}
     },
     "7047f8b518ce4fbc826d80e25ef07fd7": {
      "model_module": "@jupyter-widgets/controls",
      "model_module_version": "1.5.0",
      "model_name": "TextModel",
      "state": {
       "continuous_update": false,
       "description": "Redemption price",
       "disabled": true,
       "layout": "IPY_MODEL_623f0cd3f9a644739cb332bf872c3846",
       "style": "IPY_MODEL_ed655e9aadd64128956a9a28f83405c9",
       "value": "100"
      }
     },
     "70eedf3eb0b94691baee83d6d587efab": {
      "model_module": "@jupyter-widgets/controls",
      "model_module_version": "1.5.0",
      "model_name": "DescriptionStyleModel",
      "state": {
       "description_width": "120px"
      }
     },
     "727e3f0107cf4de883970ac6aeadbbdb": {
      "model_module": "@jupyter-widgets/controls",
      "model_module_version": "1.5.0",
      "model_name": "DropdownModel",
      "state": {
       "_options_labels": [
        "Maturity",
        "Put",
        "Call",
        "Worst",
        "Best"
       ],
       "index": 0,
       "layout": "IPY_MODEL_cc22d74495d540a090a624f11d8f3bfd",
       "style": "IPY_MODEL_bdbc31cc07e4404580c2c9c380ab321a"
      }
     },
     "731817d600134d6b9fdeec99e59cf0ac": {
      "model_module": "@jupyter-widgets/controls",
      "model_module_version": "1.5.0",
      "model_name": "TextModel",
      "state": {
       "continuous_update": false,
       "description": "Previous / next",
       "disabled": true,
       "layout": "IPY_MODEL_290af14958ca495c8949c189725a6fab",
       "style": "IPY_MODEL_d05fb5126a6a414d9a941fb1e141a2c6",
       "value": "30/06/2021-03/01/2022"
      }
     },
     "7384d56a68e943e9955e9cfd514e1c5b": {
      "model_module": "@jupyter-widgets/base",
      "model_module_version": "1.2.0",
      "model_name": "LayoutModel",
      "state": {
       "margin": "0 0 0 0",
       "width": "420px"
      }
     },
     "747b1e9ff5dd43f5b9a41f6968652879": {
      "model_module": "@jupyter-widgets/controls",
      "model_module_version": "1.5.0",
      "model_name": "DescriptionStyleModel",
      "state": {
       "description_width": "120px"
      }
     },
     "7521345d09414a94b0f11b851a97f405": {
      "model_module": "@jupyter-widgets/base",
      "model_module_version": "1.2.0",
      "model_name": "LayoutModel",
      "state": {
       "width": "80px"
      }
     },
     "7544ba5036ce4dfb960b464a0b40bfd5": {
      "model_module": "@jupyter-widgets/controls",
      "model_module_version": "1.5.0",
      "model_name": "AccordionModel",
      "state": {
       "_titles": {
        "0": "COUPON"
       },
       "children": [
        "IPY_MODEL_56c89f85b03e4d40bc976f4b1a3abca9"
       ],
       "layout": "IPY_MODEL_14d2007ed3054f7f8f47a3aff6e9997a"
      }
     },
     "75c60f7ca8a04f0aaafcea98c8892e95": {
      "model_module": "@jupyter-widgets/controls",
      "model_module_version": "1.5.0",
      "model_name": "DropdownModel",
      "state": {
       "_options_labels": [
        "Bid",
        "Ask",
        "Mid",
        "Custom"
       ],
       "index": 2,
       "layout": "IPY_MODEL_466d0baec1bd41d29c05722d8f6b417c",
       "style": "IPY_MODEL_8620928793ee4effa3fe38c7e79a0a26"
      }
     },
     "7694f1e42e384577813e46b3276c0215": {
      "model_module": "@jupyter-widgets/base",
      "model_module_version": "1.2.0",
      "model_name": "LayoutModel",
      "state": {}
     },
     "76d51b8a00f04604bf2d58fd76224e3c": {
      "model_module": "@jupyter-widgets/controls",
      "model_module_version": "1.5.0",
      "model_name": "DescriptionStyleModel",
      "state": {
       "description_width": "120px"
      }
     },
     "7856cafb3f1e4266b43e6c3883be7633": {
      "model_module": "@jupyter-widgets/controls",
      "model_module_version": "1.5.0",
      "model_name": "HBoxModel",
      "state": {
       "children": [
        "IPY_MODEL_c082955202c14948890afdd9c1f1df7f",
        "IPY_MODEL_15d4f7f539ca499cb571afadd5041393"
       ],
       "layout": "IPY_MODEL_967792216f3d4920a9c991c3d8b065c6"
      }
     },
     "787bce91337f4badaab97daee79a42f6": {
      "model_module": "@jupyter-widgets/base",
      "model_module_version": "1.2.0",
      "model_name": "LayoutModel",
      "state": {}
     },
     "79665c67229e457c81a606263c2dddbb": {
      "model_module": "@jupyter-widgets/controls",
      "model_module_version": "1.5.0",
      "model_name": "TextModel",
      "state": {
       "continuous_update": false,
       "description": "Redemption price",
       "disabled": true,
       "layout": "IPY_MODEL_2fd8eb8a2d6448349bce87ca98c661c0",
       "style": "IPY_MODEL_c0f3d21106d448dc831386f5e0cfbf58",
       "value": "100"
      }
     },
     "79a30fbffff04071baad069f9bb2b6d3": {
      "model_module": "@jupyter-widgets/controls",
      "model_module_version": "1.5.0",
      "model_name": "DescriptionStyleModel",
      "state": {
       "description_width": "120px"
      }
     },
     "79d34f9c1de24e0298cc8707fc34258e": {
      "model_module": "@jupyter-widgets/controls",
      "model_module_version": "1.5.0",
      "model_name": "DescriptionStyleModel",
      "state": {
       "description_width": "120px"
      }
     },
     "79f830880f6044949cde8061e50110ff": {
      "model_module": "@jupyter-widgets/controls",
      "model_module_version": "1.5.0",
      "model_name": "DropdownModel",
      "state": {
       "_options_labels": [
        "Bid",
        "Ask",
        "Mid",
        "Custom"
       ],
       "index": 2,
       "layout": "IPY_MODEL_82bf9d3ec2504cec8ef40bde4f95d340",
       "style": "IPY_MODEL_24f42a5407ba41e687ff9012e3e3bbce"
      }
     },
     "7a5f54572e514bd0aac462e50bac31ed": {
      "model_module": "@jupyter-widgets/base",
      "model_module_version": "1.2.0",
      "model_name": "LayoutModel",
      "state": {}
     },
     "7a8082ab98374f5391f5cafa91a047d7": {
      "model_module": "@jupyter-widgets/controls",
      "model_module_version": "1.5.0",
      "model_name": "DropdownModel",
      "state": {
       "_options_labels": [
        "Bid",
        "Ask",
        "Mid",
        "Custom"
       ],
       "index": 2,
       "layout": "IPY_MODEL_ab116de0fb6844f4b79a34964abd26e5",
       "style": "IPY_MODEL_bd34d25a5b51416595214d150f20623a"
      }
     },
     "7b5a482f802c4f54bcb0576340398ddf": {
      "model_module": "@jupyter-widgets/controls",
      "model_module_version": "1.5.0",
      "model_name": "FloatTextModel",
      "state": {
       "description": "Yield (%)",
       "layout": "IPY_MODEL_3ae1854965274a79ab0f0c7780d21b04",
       "step": null,
       "style": "IPY_MODEL_b32275a31695428992035b0d17812c57",
       "value": 0.805212259522469
      }
     },
     "7b73c4af92d6499c81ae887a1fc9c0f7": {
      "model_module": "@jupyter-widgets/controls",
      "model_module_version": "1.5.0",
      "model_name": "TextModel",
      "state": {
       "continuous_update": false,
       "description": "Next ex-dividend",
       "disabled": true,
       "layout": "IPY_MODEL_330ce809e9134c94aed6d49600076986",
       "style": "IPY_MODEL_581cb894c0504675a22115c34366b2ab",
       "value": "31/12/2021"
      }
     },
     "7ba3d42ca7b34ce5baa43ba2a583e1b3": {
      "model_module": "@jupyter-widgets/controls",
      "model_module_version": "1.5.0",
      "model_name": "VBoxModel",
      "state": {
       "children": [
        "IPY_MODEL_60a4a306925d4c1ea5743e9a55fa3e9a",
        "IPY_MODEL_553ec0e0512145a8a0a87c484a7f800f",
        "IPY_MODEL_8ae3b6979a9d483c9192d9209c2910bd",
        "IPY_MODEL_f197e6aa3eee4673b4016c9ec824d2f1",
        "IPY_MODEL_bb0aa273dc0b4898ae6dc27bacf9754a"
       ],
       "layout": "IPY_MODEL_618d8ee038ee437089e65f4828638054"
      }
     },
     "7ced2b43fb9441afa1fbec5b3643fd77": {
      "model_module": "@jupyter-widgets/base",
      "model_module_version": "1.2.0",
      "model_name": "LayoutModel",
      "state": {
       "margin": "0 0 0 0",
       "width": "420px"
      }
     },
     "7e855352d0ca4b95a66cfb479843fe3f": {
      "model_module": "@jupyter-widgets/base",
      "model_module_version": "1.2.0",
      "model_name": "LayoutModel",
      "state": {}
     },
     "7ee7054784684d1ebe38a7cf7008d1f1": {
      "model_module": "@jupyter-widgets/base",
      "model_module_version": "1.2.0",
      "model_name": "LayoutModel",
      "state": {}
     },
     "7f00800db4d74ac59f0c442855f84c05": {
      "model_module": "@jupyter-widgets/base",
      "model_module_version": "1.2.0",
      "model_name": "LayoutModel",
      "state": {}
     },
     "80a02b3544f24946a28ec03364969691": {
      "model_module": "@jupyter-widgets/base",
      "model_module_version": "1.2.0",
      "model_name": "LayoutModel",
      "state": {
       "margin": "0 0 0 0",
       "width": "420px"
      }
     },
     "8127d5b7b4594e0e9142181e592a5029": {
      "model_module": "@jupyter-widgets/base",
      "model_module_version": "1.2.0",
      "model_name": "LayoutModel",
      "state": {}
     },
     "81d7988c34ff44609d64169403178317": {
      "model_module": "@jupyter-widgets/base",
      "model_module_version": "1.2.0",
      "model_name": "LayoutModel",
      "state": {}
     },
     "81fd695b1ed54b6dbf25914b1ee668ac": {
      "model_module": "@jupyter-widgets/base",
      "model_module_version": "1.2.0",
      "model_name": "LayoutModel",
      "state": {}
     },
     "821ff26eaa22496da962c94112e398ed": {
      "model_module": "@jupyter-widgets/controls",
      "model_module_version": "1.5.0",
      "model_name": "TextModel",
      "state": {
       "continuous_update": false,
       "description": "Accrued",
       "disabled": true,
       "layout": "IPY_MODEL_3db630d3aee64cd5aebf0d2f4c7ea46b",
       "style": "IPY_MODEL_029717d4857a4f7f952628a57e2c730e",
       "value": "0.0190217391304348"
      }
     },
     "82a60f7dc6b34944b0aae9c516465d7e": {
      "model_module": "@jupyter-widgets/base",
      "model_module_version": "1.2.0",
      "model_name": "LayoutModel",
      "state": {}
     },
     "82bf9d3ec2504cec8ef40bde4f95d340": {
      "model_module": "@jupyter-widgets/base",
      "model_module_version": "1.2.0",
      "model_name": "LayoutModel",
      "state": {
       "width": "80px"
      }
     },
     "8613c582e520480a88039030f9bdb6ec": {
      "model_module": "@jupyter-widgets/base",
      "model_module_version": "1.2.0",
      "model_name": "LayoutModel",
      "state": {}
     },
     "8620928793ee4effa3fe38c7e79a0a26": {
      "model_module": "@jupyter-widgets/controls",
      "model_module_version": "1.5.0",
      "model_name": "DescriptionStyleModel",
      "state": {
       "description_width": ""
      }
     },
     "86a3bfe87c6a4a41a161f20cdd8d4a78": {
      "model_module": "@jupyter-widgets/base",
      "model_module_version": "1.2.0",
      "model_name": "LayoutModel",
      "state": {}
     },
     "86bc2af2548a4a4f80b94fe74c01c798": {
      "model_module": "@jupyter-widgets/base",
      "model_module_version": "1.2.0",
      "model_name": "LayoutModel",
      "state": {}
     },
     "8806801964d14152a7a890f48bb578df": {
      "model_module": "@jupyter-widgets/base",
      "model_module_version": "1.2.0",
      "model_name": "LayoutModel",
      "state": {}
     },
     "885a70496c5f406b8987b91eefe6bea0": {
      "model_module": "@jupyter-widgets/controls",
      "model_module_version": "1.5.0",
      "model_name": "TextModel",
      "state": {
       "continuous_update": false,
       "description": "RIC",
       "layout": "IPY_MODEL_e7607765bf26499cab15bd9a867e1538",
       "style": "IPY_MODEL_2cce84d5008f44ab8cf57dbf8a34c1f7",
       "value": "US5YT=RR"
      }
     },
     "89010d5a7cf545bfb0ca867d8c441606": {
      "model_module": "@jupyter-widgets/base",
      "model_module_version": "1.2.0",
      "model_name": "LayoutModel",
      "state": {}
     },
     "8a32e067b0dd4d62951c26865c09f771": {
      "model_module": "@jupyter-widgets/controls",
      "model_module_version": "1.5.0",
      "model_name": "DatePickerModel",
      "state": {
       "description": "Trade date",
       "disabled": false,
       "layout": "IPY_MODEL_3d9341cf324849db80b5c667fe0e01be",
       "style": "IPY_MODEL_3e5fe8371b0b4340b6e3c8b5f2d13901",
       "value": {
        "date": 7,
        "month": 6,
        "year": 2021
       }
      }
     },
     "8aa4463d8a4f422d930e5884b7ba0aef": {
      "model_module": "@jupyter-widgets/base",
      "model_module_version": "1.2.0",
      "model_name": "LayoutModel",
      "state": {}
     },
     "8ae3b6979a9d483c9192d9209c2910bd": {
      "model_module": "@jupyter-widgets/controls",
      "model_module_version": "1.5.0",
      "model_name": "VBoxModel",
      "state": {
       "children": [
        "IPY_MODEL_dfae6199f2ee4b0f8d1f3229d62bb5a2",
        "IPY_MODEL_7047f8b518ce4fbc826d80e25ef07fd7"
       ],
       "layout": "IPY_MODEL_1a4ab957494f4aa698d47448e712029d"
      }
     },
     "8c30a219c0c546e9b06e07ea2c555831": {
      "model_module": "@jupyter-widgets/controls",
      "model_module_version": "1.5.0",
      "model_name": "DescriptionStyleModel",
      "state": {
       "description_width": ""
      }
     },
     "8c823c35ed334d82bb5ce78caeace3fe": {
      "model_module": "@jupyter-widgets/controls",
      "model_module_version": "1.5.0",
      "model_name": "LabelModel",
      "state": {
       "layout": "IPY_MODEL_3ff77568babf4328be0dcec046fe1aaf",
       "style": "IPY_MODEL_25bbf31ac6e7481e94b9aaf8d0248920",
       "value": "UST    0.875 06/30/26"
      }
     },
     "8db85a4e49674e609bf86e5d01eac4e4": {
      "model_module": "@jupyter-widgets/base",
      "model_module_version": "1.2.0",
      "model_name": "LayoutModel",
      "state": {
       "margin": "0 0 0 0",
       "width": "420px"
      }
     },
     "8e4bf8f1fba44f458cfd468262c34948": {
      "model_module": "@jupyter-widgets/controls",
      "model_module_version": "1.5.0",
      "model_name": "TextModel",
      "state": {
       "continuous_update": false,
       "description": "Redemption date",
       "disabled": true,
       "layout": "IPY_MODEL_a7c0f5916c204f419339cbb1bd173022",
       "style": "IPY_MODEL_6bc6af102cff450d9aa05a72ea85f546",
       "value": "30/06/2026"
      }
     },
     "8f2dbd6460aa49ac976c7a0a24c2b189": {
      "model_module": "@jupyter-widgets/controls",
      "model_module_version": "1.5.0",
      "model_name": "DatePickerModel",
      "state": {
       "description": "Settlement date",
       "disabled": false,
       "layout": "IPY_MODEL_607875fb74c34cf79e13b3685fd38dc7",
       "style": "IPY_MODEL_f47df112d52a4bd19f8c2abd582961b8",
       "value": {
        "date": 8,
        "month": 6,
        "year": 2021
       }
      }
     },
     "8f8fce73cce44b3fb9d23c7ddd7fe9a3": {
      "model_module": "@jupyter-widgets/controls",
      "model_module_version": "1.5.0",
      "model_name": "LabelModel",
      "state": {
       "layout": "IPY_MODEL_4e3d19b30cac499bb8e9bb3d55bf5048",
       "style": "IPY_MODEL_bd898996c9294ef4afc673f21270fc42",
       "value": "D"
      }
     },
     "913adc7c3b724cf99483d05617ee8283": {
      "model_module": "@jupyter-widgets/controls",
      "model_module_version": "1.5.0",
      "model_name": "TextModel",
      "state": {
       "continuous_update": false,
       "description": "Accrued",
       "disabled": true,
       "layout": "IPY_MODEL_c85f23c726194e47aeff00fbc9ade187",
       "style": "IPY_MODEL_30ecb822b8a247a39dae0d4f2c8fc82e",
       "value": "0.0190217391304348"
      }
     },
     "929113fd78d3421eb65ceab6bbf6c865": {
      "model_module": "@jupyter-widgets/base",
      "model_module_version": "1.2.0",
      "model_name": "LayoutModel",
      "state": {}
     },
     "94510a33176d45bca03cdb7ed52a6ec8": {
      "model_module": "@jupyter-widgets/base",
      "model_module_version": "1.2.0",
      "model_name": "LayoutModel",
      "state": {}
     },
     "967792216f3d4920a9c991c3d8b065c6": {
      "model_module": "@jupyter-widgets/base",
      "model_module_version": "1.2.0",
      "model_name": "LayoutModel",
      "state": {}
     },
     "967ecc5d5181454b9937e74f5a1b231e": {
      "model_module": "@jupyter-widgets/base",
      "model_module_version": "1.2.0",
      "model_name": "LayoutModel",
      "state": {}
     },
     "9750943ac9da43c585f5e2c5e0247125": {
      "model_module": "@jupyter-widgets/base",
      "model_module_version": "1.2.0",
      "model_name": "LayoutModel",
      "state": {}
     },
     "979be223d0aa4c28a220363436f26734": {
      "model_module": "@jupyter-widgets/base",
      "model_module_version": "1.2.0",
      "model_name": "LayoutModel",
      "state": {}
     },
     "989154e5d49e4cb29dc8785c4401f5de": {
      "model_module": "@jupyter-widgets/controls",
      "model_module_version": "1.5.0",
      "model_name": "VBoxModel",
      "state": {
       "children": [
        "IPY_MODEL_eb0aa7f29f5945e2bdb8cae2276af814",
        "IPY_MODEL_a109012713f6416c9b12d072ed932236",
        "IPY_MODEL_9d9d0a72366c4eeb9bee54ff0654292d",
        "IPY_MODEL_913adc7c3b724cf99483d05617ee8283",
        "IPY_MODEL_5560e3de0c0e452aae91c5037f7a6d43"
       ],
       "layout": "IPY_MODEL_307709e1556f4222a4c9fd4c4632d738"
      }
     },
     "99142efada364e11a1e11b3f75b9d1ee": {
      "model_module": "@jupyter-widgets/controls",
      "model_module_version": "1.5.0",
      "model_name": "DescriptionStyleModel",
      "state": {
       "description_width": "120px"
      }
     },
     "994ffad18de840ba884ccb9043deffd4": {
      "model_module": "@jupyter-widgets/controls",
      "model_module_version": "1.5.0",
      "model_name": "AccordionModel",
      "state": {
       "_titles": {
        "0": "COUPON"
       },
       "children": [
        "IPY_MODEL_688cbb727305459e97ff34ffb3d5755c"
       ],
       "layout": "IPY_MODEL_b8c2bf709a5544a48835ec77ef5f9cbf"
      }
     },
     "9bcab9ee0c2e4a2cbe89b2d0b085da63": {
      "model_module": "@jupyter-widgets/base",
      "model_module_version": "1.2.0",
      "model_name": "LayoutModel",
      "state": {}
     },
     "9bd9f84806e44e44b1bd96381d675e04": {
      "model_module": "@jupyter-widgets/controls",
      "model_module_version": "1.5.0",
      "model_name": "ButtonStyleModel",
      "state": {}
     },
     "9bfb631317524605856b91dd227285d1": {
      "model_module": "@jupyter-widgets/base",
      "model_module_version": "1.2.0",
      "model_name": "LayoutModel",
      "state": {}
     },
     "9c1ea97c270b4f1cbb16adc2fe08878f": {
      "model_module": "@jupyter-widgets/controls",
      "model_module_version": "1.5.0",
      "model_name": "ButtonModel",
      "state": {
       "icon": "undo",
       "layout": "IPY_MODEL_397a437c593d44449643255958c4ab20",
       "style": "IPY_MODEL_1701876d10764ef3a4fae399ec1f9c7f",
       "tooltip": "Reset changes"
      }
     },
     "9c71c6e359a44ed0bc0b6ec58dc967ad": {
      "model_module": "@jupyter-widgets/controls",
      "model_module_version": "1.5.0",
      "model_name": "TextModel",
      "state": {
       "continuous_update": false,
       "description": "Next ex-dividend",
       "disabled": true,
       "layout": "IPY_MODEL_1f6bba2ca71a46d48e8a3f70f32b1a82",
       "style": "IPY_MODEL_79d34f9c1de24e0298cc8707fc34258e",
       "value": "31/12/2021"
      }
     },
     "9cad8e75937b4968baf87017ec70b691": {
      "model_module": "@jupyter-widgets/base",
      "model_module_version": "1.2.0",
      "model_name": "LayoutModel",
      "state": {}
     },
     "9cfba6f74e9f456980fadc2fc8a87e5b": {
      "model_module": "@jupyter-widgets/base",
      "model_module_version": "1.2.0",
      "model_name": "LayoutModel",
      "state": {}
     },
     "9d1a9404bb6b4e3cbdde15b5269d78ce": {
      "model_module": "@jupyter-widgets/controls",
      "model_module_version": "1.5.0",
      "model_name": "DescriptionStyleModel",
      "state": {
       "description_width": "120px"
      }
     },
     "9d855aa840d745db9bd8d60714582c18": {
      "model_module": "@jupyter-widgets/base",
      "model_module_version": "1.2.0",
      "model_name": "LayoutModel",
      "state": {}
     },
     "9d9d0a72366c4eeb9bee54ff0654292d": {
      "model_module": "@jupyter-widgets/controls",
      "model_module_version": "1.5.0",
      "model_name": "VBoxModel",
      "state": {
       "children": [
        "IPY_MODEL_f4d985f691b54051873d6d1b5a6232c5",
        "IPY_MODEL_dbd5074b8a0542aa8630205b92f40c2e"
       ],
       "layout": "IPY_MODEL_82a60f7dc6b34944b0aae9c516465d7e"
      }
     },
     "9e852e798b8146cfa97a60fd4e13a7d9": {
      "model_module": "@jupyter-widgets/base",
      "model_module_version": "1.2.0",
      "model_name": "LayoutModel",
      "state": {}
     },
     "a0b3ec98e86047a99266fc1bfe43e73f": {
      "model_module": "@jupyter-widgets/controls",
      "model_module_version": "1.5.0",
      "model_name": "DescriptionStyleModel",
      "state": {
       "description_width": ""
      }
     },
     "a0d123b8c70944d68c21a5813efd28b5": {
      "model_module": "@jupyter-widgets/controls",
      "model_module_version": "1.5.0",
      "model_name": "DescriptionStyleModel",
      "state": {
       "description_width": "120px"
      }
     },
     "a109012713f6416c9b12d072ed932236": {
      "model_module": "@jupyter-widgets/controls",
      "model_module_version": "1.5.0",
      "model_name": "HBoxModel",
      "state": {
       "children": [
        "IPY_MODEL_63a2c2776b584216ab01e0df3cc0a9cf",
        "IPY_MODEL_727e3f0107cf4de883970ac6aeadbbdb"
       ],
       "layout": "IPY_MODEL_44fb36cb50f541cea4e19d3adc9731c2"
      }
     },
     "a1d761f1fbd544caa23946c89bff1f2f": {
      "model_module": "@jupyter-widgets/controls",
      "model_module_version": "1.5.0",
      "model_name": "DescriptionStyleModel",
      "state": {
       "description_width": "120px"
      }
     },
     "a33b19ee939b4bd99209d710c84927e8": {
      "model_module": "@jupyter-widgets/controls",
      "model_module_version": "1.5.0",
      "model_name": "VBoxModel",
      "state": {
       "children": [
        "IPY_MODEL_c32254297363487289399d8e31b9f100",
        "IPY_MODEL_2580a1cd79ba40b4b014b77fa68d1a47"
       ],
       "layout": "IPY_MODEL_4fdb5de0580c4ff4b6a42df5136a25f5"
      }
     },
     "a6148e53a27c471fb19c50e4c66cb4f4": {
      "model_module": "@jupyter-widgets/base",
      "model_module_version": "1.2.0",
      "model_name": "LayoutModel",
      "state": {}
     },
     "a6e26ea854af4fc689291c0012fa455e": {
      "model_module": "@jupyter-widgets/controls",
      "model_module_version": "1.5.0",
      "model_name": "VBoxModel",
      "state": {
       "children": [
        "IPY_MODEL_c060809ffac74ee8b7f578966ce0f7ca",
        "IPY_MODEL_ee4cf1363dc94fcb8da7ccd7177a0e97",
        "IPY_MODEL_c320d25b663f43c585955829c5f3af80",
        "IPY_MODEL_994ffad18de840ba884ccb9043deffd4"
       ],
       "layout": "IPY_MODEL_d5b7bf38df404b52a65e5dd1d7e61d8c"
      }
     },
     "a7c0f5916c204f419339cbb1bd173022": {
      "model_module": "@jupyter-widgets/base",
      "model_module_version": "1.2.0",
      "model_name": "LayoutModel",
      "state": {}
     },
     "a7d63321dc8746c8a387209c4dd02bd9": {
      "model_module": "@jupyter-widgets/controls",
      "model_module_version": "1.5.0",
      "model_name": "TextModel",
      "state": {
       "continuous_update": false,
       "description": "Accrued",
       "disabled": true,
       "layout": "IPY_MODEL_787bce91337f4badaab97daee79a42f6",
       "style": "IPY_MODEL_bc933616d7e64ae09303f1f4b87f8e3f",
       "value": "0.0190217391304348"
      }
     },
     "a94a13666eb04e2f9673076495a89436": {
      "model_module": "@jupyter-widgets/base",
      "model_module_version": "1.2.0",
      "model_name": "LayoutModel",
      "state": {}
     },
     "a954e7a62c2d4532999a8296846b1a0b": {
      "model_module": "@jupyter-widgets/controls",
      "model_module_version": "1.5.0",
      "model_name": "LabelModel",
      "state": {
       "layout": "IPY_MODEL_23ed4357a0074e6787e1bfb73e5455da",
       "style": "IPY_MODEL_8c30a219c0c546e9b06e07ea2c555831",
       "value": "D"
      }
     },
     "aa1dd2244a0c4b278daaf1a7250f5f5a": {
      "model_module": "@jupyter-widgets/controls",
      "model_module_version": "1.5.0",
      "model_name": "DescriptionStyleModel",
      "state": {
       "description_width": "120px"
      }
     },
     "aabaa91cbd40429b85586a6e549bfd95": {
      "model_module": "@jupyter-widgets/base",
      "model_module_version": "1.2.0",
      "model_name": "LayoutModel",
      "state": {
       "margin": "0 0 0 0",
       "width": "420px"
      }
     },
     "aad8900739e14647a092a06216ebfc45": {
      "model_module": "@jupyter-widgets/controls",
      "model_module_version": "1.5.0",
      "model_name": "VBoxModel",
      "state": {
       "children": [
        "IPY_MODEL_c732fc0e80e44125b367ddcd15fb8ccb",
        "IPY_MODEL_0f3e9362fc384471a797c484e6650ea2"
       ],
       "layout": "IPY_MODEL_d77ad1661f0b4290a67b6c9e3b2d3081"
      }
     },
     "ab116de0fb6844f4b79a34964abd26e5": {
      "model_module": "@jupyter-widgets/base",
      "model_module_version": "1.2.0",
      "model_name": "LayoutModel",
      "state": {
       "width": "80px"
      }
     },
     "ab3397387b1846428bf02ebc87b5ce64": {
      "model_module": "@jupyter-widgets/base",
      "model_module_version": "1.2.0",
      "model_name": "LayoutModel",
      "state": {}
     },
     "ac7e3aedf94e43ccad6cf561cc449c3c": {
      "model_module": "@jupyter-widgets/controls",
      "model_module_version": "1.5.0",
      "model_name": "AccordionModel",
      "state": {
       "_titles": {
        "0": "SETTLEMENT"
       },
       "children": [
        "IPY_MODEL_a33b19ee939b4bd99209d710c84927e8"
       ],
       "layout": "IPY_MODEL_012aa8903bd742f9ac0943202109b808"
      }
     },
     "ada45860f8ac40c182913dc4c6cd28bd": {
      "model_module": "@jupyter-widgets/controls",
      "model_module_version": "1.5.0",
      "model_name": "TextModel",
      "state": {
       "continuous_update": false,
       "description": "Frequency",
       "disabled": true,
       "layout": "IPY_MODEL_8aa4463d8a4f422d930e5884b7ba0aef",
       "style": "IPY_MODEL_1c48a483c9a6481e9ce98d8c630ae026",
       "value": "SemiAnnual"
      }
     },
     "ae76a12071564501bdf2c947480cebd8": {
      "model_module": "@jupyter-widgets/base",
      "model_module_version": "1.2.0",
      "model_name": "LayoutModel",
      "state": {}
     },
     "b042be468a6b40548e4b24ca52c2c03a": {
      "model_module": "@jupyter-widgets/controls",
      "model_module_version": "1.5.0",
      "model_name": "TextModel",
      "state": {
       "continuous_update": false,
       "description": "Frequency",
       "disabled": true,
       "layout": "IPY_MODEL_06c9771aa88d4542a59564e077d4f136",
       "style": "IPY_MODEL_c8f8c4e5523d44cb89fc6c601ac53a2a",
       "value": "SemiAnnual"
      }
     },
     "b09be72775964c12a3666fbf1d838ba4": {
      "model_module": "@jupyter-widgets/controls",
      "model_module_version": "1.5.0",
      "model_name": "DatePickerModel",
      "state": {
       "description": "Settlement date",
       "disabled": false,
       "layout": "IPY_MODEL_b7c305706f5044dcb09216c49c0f12ec",
       "style": "IPY_MODEL_a0d123b8c70944d68c21a5813efd28b5",
       "value": {
        "date": 8,
        "month": 6,
        "year": 2021
       }
      }
     },
     "b18b49ad65ed44d681bee601ee9fbcc3": {
      "model_module": "@jupyter-widgets/controls",
      "model_module_version": "1.5.0",
      "model_name": "DescriptionStyleModel",
      "state": {
       "description_width": "120px"
      }
     },
     "b2dc1c806dac44f3ab40ca9d12e1e22f": {
      "model_module": "@jupyter-widgets/base",
      "model_module_version": "1.2.0",
      "model_name": "LayoutModel",
      "state": {}
     },
     "b32275a31695428992035b0d17812c57": {
      "model_module": "@jupyter-widgets/controls",
      "model_module_version": "1.5.0",
      "model_name": "DescriptionStyleModel",
      "state": {
       "description_width": "120px"
      }
     },
     "b41a9250b5fb4eb9a7e90bb2a5e59128": {
      "model_module": "@jupyter-widgets/controls",
      "model_module_version": "1.5.0",
      "model_name": "HBoxModel",
      "state": {
       "children": [
        "IPY_MODEL_885a70496c5f406b8987b91eefe6bea0",
        "IPY_MODEL_9c1ea97c270b4f1cbb16adc2fe08878f"
       ],
       "layout": "IPY_MODEL_967ecc5d5181454b9937e74f5a1b231e"
      }
     },
     "b4f69714e6594fe39fa578fac71e8c7c": {
      "model_module": "@jupyter-widgets/controls",
      "model_module_version": "1.5.0",
      "model_name": "FloatTextModel",
      "state": {
       "description": "Dirty price (%)",
       "layout": "IPY_MODEL_7e855352d0ca4b95a66cfb479843fe3f",
       "step": null,
       "style": "IPY_MODEL_0efbaed5062148bcadd4e0dd225714eb",
       "value": 100.35886548913
      }
     },
     "b665f148aede4c958be579cbaede43ed": {
      "model_module": "@jupyter-widgets/controls",
      "model_module_version": "1.5.0",
      "model_name": "HBoxModel",
      "state": {
       "children": [
        "IPY_MODEL_da578d4eddeb4faa82ef27fd5bf4fe13",
        "IPY_MODEL_7a8082ab98374f5391f5cafa91a047d7"
       ],
       "layout": "IPY_MODEL_7ee7054784684d1ebe38a7cf7008d1f1"
      }
     },
     "b6ae274bc2344ad5af39e02239db786d": {
      "model_module": "@jupyter-widgets/base",
      "model_module_version": "1.2.0",
      "model_name": "LayoutModel",
      "state": {}
     },
     "b7c305706f5044dcb09216c49c0f12ec": {
      "model_module": "@jupyter-widgets/base",
      "model_module_version": "1.2.0",
      "model_name": "LayoutModel",
      "state": {}
     },
     "b8c2bf709a5544a48835ec77ef5f9cbf": {
      "model_module": "@jupyter-widgets/base",
      "model_module_version": "1.2.0",
      "model_name": "LayoutModel",
      "state": {
       "margin": "0 0 0 0",
       "width": "450px"
      }
     },
     "ba2d987b26914348baf0d24cf2746ab5": {
      "model_module": "@jupyter-widgets/controls",
      "model_module_version": "1.5.0",
      "model_name": "FloatTextModel",
      "state": {
       "description": "Clean price (%)",
       "layout": "IPY_MODEL_d3e473a98f4347a3bca9ca7406303bd7",
       "step": null,
       "style": "IPY_MODEL_1475f983fc054c05bd88aa8c1261a70d",
       "value": 100.33984375
      }
     },
     "bb0aa273dc0b4898ae6dc27bacf9754a": {
      "model_module": "@jupyter-widgets/controls",
      "model_module_version": "1.5.0",
      "model_name": "FloatTextModel",
      "state": {
       "description": "Dirty price (%)",
       "layout": "IPY_MODEL_7f00800db4d74ac59f0c442855f84c05",
       "step": null,
       "style": "IPY_MODEL_28c0472caef748d0a3496485e853a86f",
       "value": 100.35886548913
      }
     },
     "bb45fc476c2c430186c8a247d0952c4c": {
      "model_module": "@jupyter-widgets/controls",
      "model_module_version": "1.5.0",
      "model_name": "DescriptionStyleModel",
      "state": {
       "description_width": ""
      }
     },
     "bb6b83058508407e8736049e76af7865": {
      "model_module": "@jupyter-widgets/base",
      "model_module_version": "1.2.0",
      "model_name": "LayoutModel",
      "state": {}
     },
     "bb8b29bdf7f64f9b9f33054b631ac993": {
      "model_module": "@jupyter-widgets/controls",
      "model_module_version": "1.5.0",
      "model_name": "TextModel",
      "state": {
       "continuous_update": false,
       "description": "Frequency",
       "disabled": true,
       "layout": "IPY_MODEL_979be223d0aa4c28a220363436f26734",
       "style": "IPY_MODEL_2262ed6292134b64b7aa9e776794b0ac",
       "value": "SemiAnnual"
      }
     },
     "bc933616d7e64ae09303f1f4b87f8e3f": {
      "model_module": "@jupyter-widgets/controls",
      "model_module_version": "1.5.0",
      "model_name": "DescriptionStyleModel",
      "state": {
       "description_width": "120px"
      }
     },
     "bd34d25a5b51416595214d150f20623a": {
      "model_module": "@jupyter-widgets/controls",
      "model_module_version": "1.5.0",
      "model_name": "DescriptionStyleModel",
      "state": {
       "description_width": ""
      }
     },
     "bd898996c9294ef4afc673f21270fc42": {
      "model_module": "@jupyter-widgets/controls",
      "model_module_version": "1.5.0",
      "model_name": "DescriptionStyleModel",
      "state": {
       "description_width": ""
      }
     },
     "bdbc31cc07e4404580c2c9c380ab321a": {
      "model_module": "@jupyter-widgets/controls",
      "model_module_version": "1.5.0",
      "model_name": "DescriptionStyleModel",
      "state": {
       "description_width": ""
      }
     },
     "be5cfec927414fb2a579b3f56b406e3f": {
      "model_module": "@jupyter-widgets/controls",
      "model_module_version": "1.5.0",
      "model_name": "VBoxModel",
      "state": {
       "children": [
        "IPY_MODEL_08eafc2afa1b4f668f91ce6019da95c7",
        "IPY_MODEL_bb8b29bdf7f64f9b9f33054b631ac993",
        "IPY_MODEL_3ca92d89c1af47e494b9f68c58220988",
        "IPY_MODEL_c4d8c196ccb4490eb7ec59e3373731ac"
       ],
       "layout": "IPY_MODEL_1641f337dd0e4a9e9c17a0dfb1165157"
      }
     },
     "bedc94c3a6aa4d8ca1973db7a71a5b9f": {
      "model_module": "@jupyter-widgets/controls",
      "model_module_version": "1.5.0",
      "model_name": "AccordionModel",
      "state": {
       "_titles": {
        "0": "PRICING"
       },
       "children": [
        "IPY_MODEL_989154e5d49e4cb29dc8785c4401f5de"
       ],
       "layout": "IPY_MODEL_80a02b3544f24946a28ec03364969691"
      }
     },
     "c060809ffac74ee8b7f578966ce0f7ca": {
      "model_module": "@jupyter-widgets/controls",
      "model_module_version": "1.5.0",
      "model_name": "VBoxModel",
      "state": {
       "children": [
        "IPY_MODEL_b41a9250b5fb4eb9a7e90bb2a5e59128",
        "IPY_MODEL_c5194a9ad76c4bf5bdba51438f455cba"
       ],
       "layout": "IPY_MODEL_04ab2f81ae044346bc2dcd9b49c6f3b8"
      }
     },
     "c082955202c14948890afdd9c1f1df7f": {
      "model_module": "@jupyter-widgets/controls",
      "model_module_version": "1.5.0",
      "model_name": "FloatTextModel",
      "state": {
       "description": "Yield (%)",
       "layout": "IPY_MODEL_b6ae274bc2344ad5af39e02239db786d",
       "step": null,
       "style": "IPY_MODEL_3fe06cb914b04db98a4b9fe98c294d79",
       "value": 0.805212259522469
      }
     },
     "c0f3d21106d448dc831386f5e0cfbf58": {
      "model_module": "@jupyter-widgets/controls",
      "model_module_version": "1.5.0",
      "model_name": "DescriptionStyleModel",
      "state": {
       "description_width": "120px"
      }
     },
     "c320d25b663f43c585955829c5f3af80": {
      "model_module": "@jupyter-widgets/controls",
      "model_module_version": "1.5.0",
      "model_name": "AccordionModel",
      "state": {
       "_titles": {
        "0": "PRICING"
       },
       "children": [
        "IPY_MODEL_eed7da444e234786b9bf64f718660add"
       ],
       "layout": "IPY_MODEL_1525937f6a6348d9afac153a8162e4be"
      }
     },
     "c32254297363487289399d8e31b9f100": {
      "model_module": "@jupyter-widgets/controls",
      "model_module_version": "1.5.0",
      "model_name": "HBoxModel",
      "state": {
       "children": [
        "IPY_MODEL_8a32e067b0dd4d62951c26865c09f771"
       ],
       "layout": "IPY_MODEL_9cfba6f74e9f456980fadc2fc8a87e5b"
      }
     },
     "c497ecec87ae401f8817151a9a4ce481": {
      "model_module": "@jupyter-widgets/base",
      "model_module_version": "1.2.0",
      "model_name": "LayoutModel",
      "state": {
       "width": "50px"
      }
     },
     "c4d8c196ccb4490eb7ec59e3373731ac": {
      "model_module": "@jupyter-widgets/controls",
      "model_module_version": "1.5.0",
      "model_name": "TextModel",
      "state": {
       "continuous_update": false,
       "description": "Rate (%)",
       "disabled": true,
       "layout": "IPY_MODEL_a94a13666eb04e2f9673076495a89436",
       "style": "IPY_MODEL_cac791c60e7e489fa928f9a9c16bc0d3",
       "value": "0.875"
      }
     },
     "c5194a9ad76c4bf5bdba51438f455cba": {
      "model_module": "@jupyter-widgets/controls",
      "model_module_version": "1.5.0",
      "model_name": "LabelModel",
      "state": {
       "layout": "IPY_MODEL_a6148e53a27c471fb19c50e4c66cb4f4",
       "style": "IPY_MODEL_e2a7e65d3c2244c88da69fa7c4a4fec3",
       "value": "UST    0.875 06/30/26"
      }
     },
     "c54da9f360374c44a109a5f335ab39aa": {
      "model_module": "@jupyter-widgets/base",
      "model_module_version": "1.2.0",
      "model_name": "LayoutModel",
      "state": {
       "margin": "0 0 0 0",
       "width": "420px"
      }
     },
     "c5c3060095f9453196611793ccf3563a": {
      "model_module": "@jupyter-widgets/controls",
      "model_module_version": "1.5.0",
      "model_name": "HBoxModel",
      "state": {
       "children": [
        "IPY_MODEL_8f2dbd6460aa49ac976c7a0a24c2b189",
        "IPY_MODEL_1922a27aac9c42bcb55eabe67e979a77",
        "IPY_MODEL_380211a929504066b252006e8b8be79f"
       ],
       "layout": "IPY_MODEL_39d6f678a6f6486db7a9fc4f499b3e65"
      }
     },
     "c732fc0e80e44125b367ddcd15fb8ccb": {
      "model_module": "@jupyter-widgets/controls",
      "model_module_version": "1.5.0",
      "model_name": "HBoxModel",
      "state": {
       "children": [
        "IPY_MODEL_05f1369101f24e1aac3ff6b5518e99ba",
        "IPY_MODEL_cba0bdb909ce44e0a8ca41d74a59a86c"
       ],
       "layout": "IPY_MODEL_dd2f92e051bd45f4b18a35b12cc33a6a"
      }
     },
     "c7a377d313e84197a979ac516d62e436": {
      "model_module": "@jupyter-widgets/controls",
      "model_module_version": "1.5.0",
      "model_name": "IntTextModel",
      "state": {
       "layout": "IPY_MODEL_408c4a5e6a0c4d81aeff537f7ffc478a",
       "step": 1,
       "style": "IPY_MODEL_cec5912f20bd4a529c5322542ad3c1ee",
       "value": 1
      }
     },
     "c7a881437b904b40bc4331f7e52222bd": {
      "model_module": "@jupyter-widgets/controls",
      "model_module_version": "1.5.0",
      "model_name": "DescriptionStyleModel",
      "state": {
       "description_width": "120px"
      }
     },
     "c85f23c726194e47aeff00fbc9ade187": {
      "model_module": "@jupyter-widgets/base",
      "model_module_version": "1.2.0",
      "model_name": "LayoutModel",
      "state": {}
     },
     "c8f8c4e5523d44cb89fc6c601ac53a2a": {
      "model_module": "@jupyter-widgets/controls",
      "model_module_version": "1.5.0",
      "model_name": "DescriptionStyleModel",
      "state": {
       "description_width": "120px"
      }
     },
     "c91a55320d3b49d28f4fe38ef95743da": {
      "model_module": "@jupyter-widgets/controls",
      "model_module_version": "1.5.0",
      "model_name": "DescriptionStyleModel",
      "state": {
       "description_width": "120px"
      }
     },
     "ca56aa90724a40b3a4c744fdec57ce64": {
      "model_module": "@jupyter-widgets/base",
      "model_module_version": "1.2.0",
      "model_name": "LayoutModel",
      "state": {}
     },
     "cac791c60e7e489fa928f9a9c16bc0d3": {
      "model_module": "@jupyter-widgets/controls",
      "model_module_version": "1.5.0",
      "model_name": "DescriptionStyleModel",
      "state": {
       "description_width": "120px"
      }
     },
     "cb5cf24602fb4aeeb7456906c24e7781": {
      "model_module": "@jupyter-widgets/controls",
      "model_module_version": "1.5.0",
      "model_name": "TextModel",
      "state": {
       "continuous_update": false,
       "description": "RIC",
       "layout": "IPY_MODEL_440698145cd443e3a10e62cc3a0067ba",
       "style": "IPY_MODEL_53750155be2d485dac3e54d22e535c2b",
       "value": "US5YT=RR"
      }
     },
     "cba0bdb909ce44e0a8ca41d74a59a86c": {
      "model_module": "@jupyter-widgets/controls",
      "model_module_version": "1.5.0",
      "model_name": "ButtonModel",
      "state": {
       "icon": "undo",
       "layout": "IPY_MODEL_2c0a5ccad765452bb83291af5d3c2c5d",
       "style": "IPY_MODEL_fd128ba16ce549e986dcf968be881fdc",
       "tooltip": "Reset changes"
      }
     },
     "cc22d74495d540a090a624f11d8f3bfd": {
      "model_module": "@jupyter-widgets/base",
      "model_module_version": "1.2.0",
      "model_name": "LayoutModel",
      "state": {
       "width": "80px"
      }
     },
     "cc44957fc90c4a82ae802533e696b070": {
      "model_module": "@jupyter-widgets/controls",
      "model_module_version": "1.5.0",
      "model_name": "VBoxModel",
      "state": {
       "children": [
        "IPY_MODEL_aad8900739e14647a092a06216ebfc45",
        "IPY_MODEL_6121fbfdb1584230a31e0833d24c2999",
        "IPY_MODEL_cfcb7b80782a4d8ab0e313b72fea65ea",
        "IPY_MODEL_7544ba5036ce4dfb960b464a0b40bfd5"
       ],
       "layout": "IPY_MODEL_7a5f54572e514bd0aac462e50bac31ed"
      }
     },
     "cc7703aedaf742d295690ddeeef69ccb": {
      "model_module": "@jupyter-widgets/base",
      "model_module_version": "1.2.0",
      "model_name": "LayoutModel",
      "state": {}
     },
     "cec5912f20bd4a529c5322542ad3c1ee": {
      "model_module": "@jupyter-widgets/controls",
      "model_module_version": "1.5.0",
      "model_name": "DescriptionStyleModel",
      "state": {
       "description_width": ""
      }
     },
     "cf0943c491cf49748a4d3107b090f0f2": {
      "model_module": "@jupyter-widgets/controls",
      "model_module_version": "1.5.0",
      "model_name": "HBoxModel",
      "state": {
       "children": [
        "IPY_MODEL_d24f2ff7494f4721b97621cee964e277"
       ],
       "layout": "IPY_MODEL_48789d6e1dd64d44b7b96dd95c00fe6b"
      }
     },
     "cfcb7b80782a4d8ab0e313b72fea65ea": {
      "model_module": "@jupyter-widgets/controls",
      "model_module_version": "1.5.0",
      "model_name": "AccordionModel",
      "state": {
       "_titles": {
        "0": "PRICING"
       },
       "children": [
        "IPY_MODEL_7ba3d42ca7b34ce5baa43ba2a583e1b3"
       ],
       "layout": "IPY_MODEL_aabaa91cbd40429b85586a6e549bfd95"
      }
     },
     "d01e9712ef894207a791be5862258068": {
      "model_module": "@jupyter-widgets/controls",
      "model_module_version": "1.5.0",
      "model_name": "LabelModel",
      "state": {
       "layout": "IPY_MODEL_09f698576c884546a1464fe36806a9f1",
       "style": "IPY_MODEL_245e14d20a6a4576b8ae0590023a1b21",
       "value": "D"
      }
     },
     "d05fb5126a6a414d9a941fb1e141a2c6": {
      "model_module": "@jupyter-widgets/controls",
      "model_module_version": "1.5.0",
      "model_name": "DescriptionStyleModel",
      "state": {
       "description_width": "120px"
      }
     },
     "d0981236c41040af86d8c81b76ecb052": {
      "model_module": "@jupyter-widgets/controls",
      "model_module_version": "1.5.0",
      "model_name": "AccordionModel",
      "state": {
       "_titles": {
        "0": "COUPON"
       },
       "children": [
        "IPY_MODEL_be5cfec927414fb2a579b3f56b406e3f"
       ],
       "layout": "IPY_MODEL_8db85a4e49674e609bf86e5d01eac4e4"
      }
     },
     "d24f2ff7494f4721b97621cee964e277": {
      "model_module": "@jupyter-widgets/controls",
      "model_module_version": "1.5.0",
      "model_name": "DatePickerModel",
      "state": {
       "description": "Trade date",
       "disabled": false,
       "layout": "IPY_MODEL_8806801964d14152a7a890f48bb578df",
       "style": "IPY_MODEL_e63001bebcf7486981cacd56984dbf16",
       "value": {
        "date": 7,
        "month": 6,
        "year": 2021
       }
      }
     },
     "d3e473a98f4347a3bca9ca7406303bd7": {
      "model_module": "@jupyter-widgets/base",
      "model_module_version": "1.2.0",
      "model_name": "LayoutModel",
      "state": {}
     },
     "d42f1f238184487883e6bb3dd2d04b4b": {
      "model_module": "@jupyter-widgets/controls",
      "model_module_version": "1.5.0",
      "model_name": "VBoxModel",
      "state": {
       "children": [
        "IPY_MODEL_cf0943c491cf49748a4d3107b090f0f2",
        "IPY_MODEL_c5c3060095f9453196611793ccf3563a"
       ],
       "layout": "IPY_MODEL_ae76a12071564501bdf2c947480cebd8"
      }
     },
     "d4fe7123197145f995f43f5efb538216": {
      "model_module": "@jupyter-widgets/controls",
      "model_module_version": "1.5.0",
      "model_name": "FloatTextModel",
      "state": {
       "description": "Yield (%)",
       "layout": "IPY_MODEL_1e540755686b4884a41f444943a9a66b",
       "step": null,
       "style": "IPY_MODEL_9d1a9404bb6b4e3cbdde15b5269d78ce",
       "value": 0.805212259522469
      }
     },
     "d5b7bf38df404b52a65e5dd1d7e61d8c": {
      "model_module": "@jupyter-widgets/base",
      "model_module_version": "1.2.0",
      "model_name": "LayoutModel",
      "state": {}
     },
     "d6f0a019f78b4f01813141b6384785ab": {
      "model_module": "@jupyter-widgets/base",
      "model_module_version": "1.2.0",
      "model_name": "LayoutModel",
      "state": {}
     },
     "d77ad1661f0b4290a67b6c9e3b2d3081": {
      "model_module": "@jupyter-widgets/base",
      "model_module_version": "1.2.0",
      "model_name": "LayoutModel",
      "state": {
       "margin": "0 0 0 0",
       "width": "420px"
      }
     },
     "d818303bbab646f1b10410c201aa6e94": {
      "model_module": "@jupyter-widgets/controls",
      "model_module_version": "1.5.0",
      "model_name": "ButtonModel",
      "state": {
       "icon": "undo",
       "layout": "IPY_MODEL_0a3d775814d0452a83bf73f2dde8f344",
       "style": "IPY_MODEL_24ece22d067c4441a44370eb825a54bc",
       "tooltip": "Reset changes"
      }
     },
     "d882e5bb49f746af90c60049832535ef": {
      "model_module": "@jupyter-widgets/controls",
      "model_module_version": "1.5.0",
      "model_name": "HBoxModel",
      "state": {
       "children": [
        "IPY_MODEL_cb5cf24602fb4aeeb7456906c24e7781",
        "IPY_MODEL_d818303bbab646f1b10410c201aa6e94"
       ],
       "layout": "IPY_MODEL_3830e44c816f460bae6d84e8105d0539"
      }
     },
     "da578d4eddeb4faa82ef27fd5bf4fe13": {
      "model_module": "@jupyter-widgets/controls",
      "model_module_version": "1.5.0",
      "model_name": "FloatTextModel",
      "state": {
       "description": "Clean price (%)",
       "layout": "IPY_MODEL_1d4cf5cd5afa4de5b580f2efddb8b9f2",
       "step": null,
       "style": "IPY_MODEL_99142efada364e11a1e11b3f75b9d1ee",
       "value": 100.33984375
      }
     },
     "db3aafc7af1b44b9924f4d9c5fa8b9b1": {
      "model_module": "@jupyter-widgets/controls",
      "model_module_version": "1.5.0",
      "model_name": "HBoxModel",
      "state": {
       "children": [
        "IPY_MODEL_38c2f6362f1648408a757ced1c1fba18"
       ],
       "layout": "IPY_MODEL_8127d5b7b4594e0e9142181e592a5029"
      }
     },
     "dbd5074b8a0542aa8630205b92f40c2e": {
      "model_module": "@jupyter-widgets/controls",
      "model_module_version": "1.5.0",
      "model_name": "TextModel",
      "state": {
       "continuous_update": false,
       "description": "Redemption price",
       "disabled": true,
       "layout": "IPY_MODEL_cc7703aedaf742d295690ddeeef69ccb",
       "style": "IPY_MODEL_5636adc2cb14407a955c40625abe3582",
       "value": "100"
      }
     },
     "dbef1ba8fb4a491e95e16f1c99f71d88": {
      "model_module": "@jupyter-widgets/controls",
      "model_module_version": "1.5.0",
      "model_name": "AccordionModel",
      "state": {
       "_titles": {
        "0": "SETTLEMENT"
       },
       "children": [
        "IPY_MODEL_edb86bd9fd804648ac75f884dfdc51d8"
       ],
       "layout": "IPY_MODEL_7ced2b43fb9441afa1fbec5b3643fd77"
      }
     },
     "dc96e6aea52443bc991b4a53f5882d2f": {
      "model_module": "@jupyter-widgets/base",
      "model_module_version": "1.2.0",
      "model_name": "LayoutModel",
      "state": {}
     },
     "dd2f92e051bd45f4b18a35b12cc33a6a": {
      "model_module": "@jupyter-widgets/base",
      "model_module_version": "1.2.0",
      "model_name": "LayoutModel",
      "state": {}
     },
     "ddd72e4341c14b4786f96f6e5b3b8b98": {
      "model_module": "@jupyter-widgets/base",
      "model_module_version": "1.2.0",
      "model_name": "LayoutModel",
      "state": {}
     },
     "de29b239eff44659afb85a8be3d52343": {
      "model_module": "@jupyter-widgets/base",
      "model_module_version": "1.2.0",
      "model_name": "LayoutModel",
      "state": {
       "margin": "0 0 0 0",
       "width": "420px"
      }
     },
     "dfae6199f2ee4b0f8d1f3229d62bb5a2": {
      "model_module": "@jupyter-widgets/controls",
      "model_module_version": "1.5.0",
      "model_name": "TextModel",
      "state": {
       "continuous_update": false,
       "description": "Redemption date",
       "disabled": true,
       "layout": "IPY_MODEL_dc96e6aea52443bc991b4a53f5882d2f",
       "style": "IPY_MODEL_c7a881437b904b40bc4331f7e52222bd",
       "value": "30/06/2026"
      }
     },
     "e1f70259915c4c5595d6a17f5e0f7824": {
      "model_module": "@jupyter-widgets/controls",
      "model_module_version": "1.5.0",
      "model_name": "DescriptionStyleModel",
      "state": {
       "description_width": "25px"
      }
     },
     "e244776d35f94cf6bad72d1ba7bb65b1": {
      "model_module": "@jupyter-widgets/controls",
      "model_module_version": "1.5.0",
      "model_name": "VBoxModel",
      "state": {
       "children": [
        "IPY_MODEL_40e006a8e06040f09d075b294a9466ca",
        "IPY_MODEL_dbef1ba8fb4a491e95e16f1c99f71d88",
        "IPY_MODEL_bedc94c3a6aa4d8ca1973db7a71a5b9f",
        "IPY_MODEL_3243a30c6ea64314b553a931b0e4d512"
       ],
       "layout": "IPY_MODEL_67bd21b0aa254dbf8e9a9dc617bde585"
      }
     },
     "e26eea27bfb7404591f1817278eda561": {
      "model_module": "@jupyter-widgets/controls",
      "model_module_version": "1.5.0",
      "model_name": "HBoxModel",
      "state": {
       "children": [
        "IPY_MODEL_3986beae5c594ac2a8f81dd337c4db9c"
       ],
       "layout": "IPY_MODEL_3b94e4a602b949a28475cdcaa2673929"
      }
     },
     "e2a7e65d3c2244c88da69fa7c4a4fec3": {
      "model_module": "@jupyter-widgets/controls",
      "model_module_version": "1.5.0",
      "model_name": "DescriptionStyleModel",
      "state": {
       "description_width": ""
      }
     },
     "e3892d2bb4fd4c86a8cbd352e303a87a": {
      "model_module": "@jupyter-widgets/controls",
      "model_module_version": "1.5.0",
      "model_name": "DescriptionStyleModel",
      "state": {
       "description_width": "120px"
      }
     },
     "e63001bebcf7486981cacd56984dbf16": {
      "model_module": "@jupyter-widgets/controls",
      "model_module_version": "1.5.0",
      "model_name": "DescriptionStyleModel",
      "state": {
       "description_width": "120px"
      }
     },
     "e681e987741545149c1919c6bd595645": {
      "model_module": "@jupyter-widgets/controls",
      "model_module_version": "1.5.0",
      "model_name": "DescriptionStyleModel",
      "state": {
       "description_width": "120px"
      }
     },
     "e7607765bf26499cab15bd9a867e1538": {
      "model_module": "@jupyter-widgets/base",
      "model_module_version": "1.2.0",
      "model_name": "LayoutModel",
      "state": {
       "margin": "0 0 0 0",
       "width": "320px"
      }
     },
     "eb0aa7f29f5945e2bdb8cae2276af814": {
      "model_module": "@jupyter-widgets/controls",
      "model_module_version": "1.5.0",
      "model_name": "HBoxModel",
      "state": {
       "children": [
        "IPY_MODEL_091c5d3da48e4446a1b22b49db425f2c",
        "IPY_MODEL_79f830880f6044949cde8061e50110ff"
       ],
       "layout": "IPY_MODEL_16d2115849f14b0bb962d5bbcc5d8be9"
      }
     },
     "eb26143cfa7243bd8d23f7ef786d3f7b": {
      "model_module": "@jupyter-widgets/base",
      "model_module_version": "1.2.0",
      "model_name": "LayoutModel",
      "state": {
       "padding": "0 0 0 0",
       "width": "26px"
      }
     },
     "ecae6965c6ec4937bb2119434f48e370": {
      "model_module": "@jupyter-widgets/base",
      "model_module_version": "1.2.0",
      "model_name": "LayoutModel",
      "state": {
       "margin": "0 0 0 0",
       "width": "320px"
      }
     },
     "ed655e9aadd64128956a9a28f83405c9": {
      "model_module": "@jupyter-widgets/controls",
      "model_module_version": "1.5.0",
      "model_name": "DescriptionStyleModel",
      "state": {
       "description_width": "120px"
      }
     },
     "edb86bd9fd804648ac75f884dfdc51d8": {
      "model_module": "@jupyter-widgets/controls",
      "model_module_version": "1.5.0",
      "model_name": "VBoxModel",
      "state": {
       "children": [
        "IPY_MODEL_db3aafc7af1b44b9924f4d9c5fa8b9b1",
        "IPY_MODEL_2620548c20f14a4aa11fd10767a732c1"
       ],
       "layout": "IPY_MODEL_d6f0a019f78b4f01813141b6384785ab"
      }
     },
     "ee1fd9cc805b419887a1cdc50fc4a777": {
      "model_module": "@jupyter-widgets/controls",
      "model_module_version": "1.5.0",
      "model_name": "DescriptionStyleModel",
      "state": {
       "description_width": ""
      }
     },
     "ee4cf1363dc94fcb8da7ccd7177a0e97": {
      "model_module": "@jupyter-widgets/controls",
      "model_module_version": "1.5.0",
      "model_name": "AccordionModel",
      "state": {
       "_titles": {
        "0": "SETTLEMENT"
       },
       "children": [
        "IPY_MODEL_d42f1f238184487883e6bb3dd2d04b4b"
       ],
       "layout": "IPY_MODEL_46a3fda3a89f47ffab002bece0719b68"
      }
     },
     "eed7da444e234786b9bf64f718660add": {
      "model_module": "@jupyter-widgets/controls",
      "model_module_version": "1.5.0",
      "model_name": "VBoxModel",
      "state": {
       "children": [
        "IPY_MODEL_b665f148aede4c958be579cbaede43ed",
        "IPY_MODEL_7856cafb3f1e4266b43e6c3883be7633",
        "IPY_MODEL_21a3049ed6eb46ac8ff63cf6dbd6fa7c",
        "IPY_MODEL_821ff26eaa22496da962c94112e398ed",
        "IPY_MODEL_fc3451853a914cb7853e927cecf49f7b"
       ],
       "layout": "IPY_MODEL_3950a5346eb24bb78f47b89f3719baff"
      }
     },
     "f197e6aa3eee4673b4016c9ec824d2f1": {
      "model_module": "@jupyter-widgets/controls",
      "model_module_version": "1.5.0",
      "model_name": "TextModel",
      "state": {
       "continuous_update": false,
       "description": "Accrued",
       "disabled": true,
       "layout": "IPY_MODEL_9e852e798b8146cfa97a60fd4e13a7d9",
       "style": "IPY_MODEL_5751f418a45743bca63fab380eba779c",
       "value": "0.0190217391304348"
      }
     },
     "f47df112d52a4bd19f8c2abd582961b8": {
      "model_module": "@jupyter-widgets/controls",
      "model_module_version": "1.5.0",
      "model_name": "DescriptionStyleModel",
      "state": {
       "description_width": "120px"
      }
     },
     "f4d985f691b54051873d6d1b5a6232c5": {
      "model_module": "@jupyter-widgets/controls",
      "model_module_version": "1.5.0",
      "model_name": "TextModel",
      "state": {
       "continuous_update": false,
       "description": "Redemption date",
       "disabled": true,
       "layout": "IPY_MODEL_2a149708cc75458882d87f379f55256d",
       "style": "IPY_MODEL_a1d761f1fbd544caa23946c89bff1f2f",
       "value": "30/06/2026"
      }
     },
     "f714a43c198443caaa44093ddf96aca6": {
      "model_module": "@jupyter-widgets/base",
      "model_module_version": "1.2.0",
      "model_name": "LayoutModel",
      "state": {}
     },
     "f73a8a0eb27e4ba382c4250cd796d2ba": {
      "model_module": "@jupyter-widgets/controls",
      "model_module_version": "1.5.0",
      "model_name": "FloatTextModel",
      "state": {
       "description": "Clean price (%)",
       "layout": "IPY_MODEL_9bcab9ee0c2e4a2cbe89b2d0b085da63",
       "step": null,
       "style": "IPY_MODEL_41e6eb0422464aac8ee5491ddac3502e",
       "value": 100.33984375
      }
     },
     "f78ca5b737bd44359616b7f6927068ce": {
      "model_module": "@jupyter-widgets/base",
      "model_module_version": "1.2.0",
      "model_name": "LayoutModel",
      "state": {
       "margin": "0 0 0 0",
       "width": "420px"
      }
     },
     "fbb247fdbd7e43918e8b4798ee424cf3": {
      "model_module": "@jupyter-widgets/controls",
      "model_module_version": "1.5.0",
      "model_name": "DescriptionStyleModel",
      "state": {
       "description_width": ""
      }
     },
     "fc3451853a914cb7853e927cecf49f7b": {
      "model_module": "@jupyter-widgets/controls",
      "model_module_version": "1.5.0",
      "model_name": "FloatTextModel",
      "state": {
       "description": "Dirty price (%)",
       "layout": "IPY_MODEL_16c3ecc7b61f4056b977834f6087c01d",
       "step": null,
       "style": "IPY_MODEL_124290f80a8547a8a7e30a83328f4eba",
       "value": 100.35886548913
      }
     },
     "fd128ba16ce549e986dcf968be881fdc": {
      "model_module": "@jupyter-widgets/controls",
      "model_module_version": "1.5.0",
      "model_name": "ButtonStyleModel",
      "state": {}
     },
     "ff54bcd6e1d649bf88133d8bde666a37": {
      "model_module": "@jupyter-widgets/controls",
      "model_module_version": "1.5.0",
      "model_name": "LabelModel",
      "state": {
       "layout": "IPY_MODEL_3f2a59e87c404f80b40cdaaa08f6d6ef",
       "style": "IPY_MODEL_a0b3ec98e86047a99266fc1bfe43e73f",
       "value": "UST    0.875 06/30/26"
      }
     }
    },
    "version_major": 2,
    "version_minor": 0
   }
  }
 },
 "nbformat": 4,
 "nbformat_minor": 4
}
